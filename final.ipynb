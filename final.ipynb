{
  "cells": [
    {
      "cell_type": "markdown",
      "metadata": {
        "id": "hkGReb0gpNIS"
      },
      "source": [
        "적대적 탐색 알고리즘의 동작 방식을 이해하고 이를 이용하여 게임 프로그램을 만드는 예를 살펴 봅시다. 여기 제공하는 코드는 GitHub aima-python의 코드를 기반으로 일부 수정한 것임."
      ]
    },
    {
      "cell_type": "code",
      "execution_count": 1,
      "metadata": {
        "id": "5DvDelF-pNIX"
      },
      "outputs": [],
      "source": [
        "import random\n",
        "import math\n",
        "infinity = math.inf"
      ]
    },
    {
      "cell_type": "markdown",
      "metadata": {
        "id": "7f0ll6tvpNIZ"
      },
      "source": [
        "## 게임 문제 정의\n",
        "자신만의 게임 문제를 정의하려면 Game 클래스의 서브 클래스를 정의하면 됨."
      ]
    },
    {
      "cell_type": "code",
      "execution_count": 2,
      "metadata": {
        "id": "TxFcgN4RpNIZ"
      },
      "outputs": [],
      "source": [
        "class Game:\n",
        "    \"\"\"문제를 정의하기 위한 Problem 클래스에 대응되는 게임 정의를 위한 클래스.\n",
        "    경로 비용과 목표 검사 대신 각 상태에 대한 효용 함수와 종료 검사로 구성됨.\n",
        "    게임을 정의하려면 이 클래스의 서브 클래스를 만들어서\n",
        "    actions, result, is_terminal, utility를 구현하면 됨.\n",
        "    필요에 따라 게임의 초기 상태를 지정하려면,\n",
        "    클래스 생성자에서 초기 상태를 initial 에 세팅하면 됨.\"\"\"\n",
        "\n",
        "    def actions(self):\n",
        "        \"\"\"허용 가능한 수(move) 리스트\"\"\"\n",
        "        raise NotImplementedError\n",
        "\n",
        "    def result(self, move):\n",
        "        \"\"\"수(move)를 두었을 때의 결과 상태 리턴\"\"\"\n",
        "        raise NotImplementedError\n",
        "\n",
        "    def is_terminal(self):\n",
        "        \"\"\"종료 상태이면 True 리턴\"\"\"\n",
        "        return not self.actions()\n",
        "    \n",
        "    def utility(self):\n",
        "        \"\"\"게임이 종료됐을 때 효용 함수 값\"\"\"\n",
        "        raise NotImplementedError"
      ]
    },
    {
      "cell_type": "code",
      "execution_count": 3,
      "metadata": {
        "id": "eRE4STQLpNIa"
      },
      "outputs": [],
      "source": [
        "def play_game(game, strategies: dict, verbose=False):\n",
        "    \"\"\"번갈아 가면서 두는 게임 진행 함수.\n",
        "    strategies: {참가자 이름: 함수} 형태의 딕셔너리. \n",
        "    여기서 함수(game)는 참가자의 수(move)를 찾는 함수\"\"\"\n",
        "    while not game.is_terminal():\n",
        "        player = game.to_move\n",
        "        move = strategies[game.to_move](game)\n",
        "        if move:\n",
        "            game = game.result(move)\n",
        "        else:\n",
        "            game.turn_change()\n",
        "        if verbose: \n",
        "            print('Player', player, 'move:', move)\n",
        "            game.display()\n",
        "    return game"
      ]
    },
    {
      "cell_type": "markdown",
      "metadata": {
        "id": "1t8K1wNnpNId"
      },
      "source": [
        "### 알파-베타 탐색"
      ]
    },
    {
      "cell_type": "code",
      "execution_count": 4,
      "metadata": {
        "id": "TDVwtFvxpNId"
      },
      "outputs": [],
      "source": [
        "def alphabeta_search(game, null):\n",
        "    \"\"\"알파-베타 가지치기를 사용하여 최고의 수를 결정하기 위한 게임 트리 탐색.\"\"\"\n",
        "\n",
        "\n",
        "\n",
        "    def max_value(game, alpha, beta):\n",
        "        if game.is_terminal():\n",
        "            return game.utility(), None\n",
        "        v, move = -infinity, None\n",
        "        for a in game.actions():\n",
        "            v2, _ = min_value(game.result(a), alpha, beta)\n",
        "            if v2 > v:\n",
        "                v, move = v2, a\n",
        "                alpha = max(alpha, v)\n",
        "            if v >= beta:\n",
        "                return v, move\n",
        "        if not move:\n",
        "            game.to_move = '○'\n",
        "            return min_value(game, alpha, beta)\n",
        "        return v, move\n",
        "\n",
        "    def min_value(game, alpha, beta):\n",
        "        if game.is_terminal():\n",
        "            return game.utility(), None\n",
        "        v, move = +infinity, None\n",
        "        for a in game.actions():\n",
        "            v2, _ = max_value(game.result(a), alpha, beta)\n",
        "            if v2 < v:\n",
        "                v, move = v2, a\n",
        "                beta = min(beta, v)\n",
        "            if v <= alpha:\n",
        "                return v, move\n",
        "        if not move:\n",
        "            game.to_move = '●'\n",
        "            return max_value(game, alpha, beta)   \n",
        "        return v, move\n",
        "    \n",
        "    if(game.to_move=='○'):\n",
        "        return min_value(game, -infinity, +infinity)\n",
        "    else :\n",
        "        return max_value(game, -infinity, +infinity)"
      ]
    },
    {
      "cell_type": "markdown",
      "metadata": {
        "id": "XfrxkYNuQe7p"
      },
      "source": [
        "### 휴리스틱 알파-베타 탐색에서 필요한 함수"
      ]
    },
    {
      "cell_type": "code",
      "execution_count": 5,
      "metadata": {
        "id": "RNEGozESQe7p"
      },
      "outputs": [],
      "source": [
        "def cutoff_depth(d):\n",
        "    \"\"\"깊이 d까지만 탐색하도록 하는 중단 함수: depth > d이면 True 리턴.\"\"\"\n",
        "    return lambda game, depth: depth > d\n",
        "\n",
        "def h(game):\n",
        "    \"\"\"터미널 노드까지 도달하지 않고 평가함수를 반환하기 위해, 오셀로 판의 각 모서리에 가중치를 부여\n",
        "    판의 각 꼭짓점 => +\n",
        "    판의 모든 모서리 => +\n",
        "    판의 각 꼭짓점을 둘러싼 세 점 => +\n",
        "    판의 각 꼭짓점이 채워지지 않은 상태에서 각 꼭짓점을 둘러싼 세 점 => - \"\"\"\n",
        "    \n",
        "    cnt = 0\n",
        "    for i in range(game.height):\n",
        "        for j in range(game.width):\n",
        "            if game.board[i][j] == '●':\n",
        "                cnt += 1\n",
        "            elif game.board[i][j]=='○':\n",
        "                cnt -= 1\n",
        "\n",
        "            if i==game.height-1 or i==0 or j==game.width-1 or j==0 :\n",
        "                if game.board[i][j]=='●':\n",
        "                    cnt += 1\n",
        "                elif game.board[i][j]=='○':\n",
        "                    cnt -= 1\n",
        "            \n",
        "    corners = [[[0,0],[[1,0],[1,1],[0,1]]],\n",
        "              [[0,game.width-1],[[1,game.width-1],[1,game.width-2],[0,game.width-2]]],\n",
        "              [[game.height-1,0],[[game.height-2,0],[game.height-2,1],[game.height-1,0]]],\n",
        "              [[game.height-1,game.width-1],[[game.height-2,game.width-1],[game.height-2,game.width-2],[game.height-1,game.width-2]]]]\n",
        "    \n",
        "    for corner in corners:\n",
        "        if(game.board[corner[0][0]][corner[0][1]]=='●'): cnt+=3\n",
        "        elif(game.board[corner[0][0]][corner[0][1]]=='○'):cnt-=3\n",
        "        else: \n",
        "            for xy in corner[1]:\n",
        "                if(game.board[xy[0]][xy[1]]=='●'): cnt-=2\n",
        "                elif(game.board[xy[0]][xy[1]]=='○'):cnt+=2\n",
        "    return cnt"
      ]
    },
    {
      "cell_type": "markdown",
      "metadata": {
        "id": "DrnlRAc_pNIe"
      },
      "source": [
        "### 휴리스틱 알파-베타 탐색"
      ]
    },
    {
      "cell_type": "code",
      "execution_count": 6,
      "metadata": {
        "id": "8feQm3QbpNIf"
      },
      "outputs": [],
      "source": [
        "def h_alphabeta_search(game, c_depth):\n",
        "    \"\"\"휴리스틱 알파-베타 탐색\"\"\"\n",
        "    cutoff=cutoff_depth(c_depth)\n",
        "    player = game.to_move\n",
        "\n",
        "    def max_value(game, alpha, beta, depth):\n",
        "        if game.is_terminal():\n",
        "            return game.utility(), None\n",
        "        if cutoff(game, depth):\n",
        "            return h(game), None\n",
        "        v, move = -infinity, None\n",
        "        for a in game.actions():\n",
        "            v2, _ = min_value(game.result(a), alpha, beta, depth+1)\n",
        "            if v2 > v:\n",
        "                v, move = v2, a\n",
        "                alpha = max(alpha, v)\n",
        "            if v >= beta:\n",
        "                return v, move\n",
        "        if not move:\n",
        "            game.to_move = '○'\n",
        "            return min_value(game, alpha, beta, depth)\n",
        "        return v, move\n",
        "\n",
        "    def min_value(game, alpha, beta, depth):\n",
        "        if game.is_terminal():\n",
        "            return game.utility(), None\n",
        "        if cutoff(game, depth):\n",
        "            return h(game), None\n",
        "        v, move = +infinity, None\n",
        "        for a in game.actions():\n",
        "            v2, _ = max_value(game.result(a), alpha, beta, depth+1)\n",
        "            if v2 < v:\n",
        "                v, move = v2, a\n",
        "                beta = min(beta, v)\n",
        "            if v <= alpha:\n",
        "                return v, move\n",
        "        if not move:\n",
        "            game.to_move =  '●'\n",
        "            return max_value(game, alpha, beta, depth)   \n",
        "        return v, move\n",
        "\n",
        "    if(game.to_move=='○'):\n",
        "        return min_value(game, -infinity, +infinity, 0)\n",
        "    else :\n",
        "        return max_value(game, -infinity, +infinity, 0)\n"
      ]
    },
    {
      "cell_type": "markdown",
      "metadata": {
        "id": "5S5bnhlSpNIg"
      },
      "source": [
        "## Othello(리버시) 게임"
      ]
    },
    {
      "cell_type": "markdown",
      "metadata": {
        "id": "QOmgm1tYpNIg"
      },
      "source": [
        "### 게임 정의"
      ]
    },
    {
      "cell_type": "code",
      "execution_count": 7,
      "metadata": {
        "id": "6UBgKpWilx3s"
      },
      "outputs": [],
      "source": [
        "class Othello(Game):\n",
        "    \"\"\"Othello 게임. 보드 크기: height * width. \n",
        "    게임 종료시 더 많은 색을 가진 사람이 승리\n",
        "    '●'와 '○'가 게임 플레이. '●'가 먼저 플레이.\n",
        "    (0, 0) 위치는 보드의 좌상단 끝 위치.\"\"\"\n",
        "\n",
        "    def __init__(self, height, width, to_move):\n",
        "        self.height=height\n",
        "        self.width=width\n",
        "        self.board = [[ '.' for x in range(width)] for y in range(height)]\n",
        "        self.board[width//2][height//2]='●'\n",
        "        self.board[width//2-1][height//2-1]='●'\n",
        "        self.board[width//2-1][height//2]='○'\n",
        "        self.board[width//2][height//2-1]='○'\n",
        "        self.to_move = to_move\n",
        "\n",
        "    def actions(self):\n",
        "        move = ((0,1),(1,0),(0,-1),(-1,0),(1,1),(-1,1),(1,-1),(-1,-1))\n",
        "        \"\"\"내 돌을 놓을 수 있는 좌표를 담은 배열 반환\"\"\"\n",
        "        action = []\n",
        "        for i in range(self.height):\n",
        "            for j in range(self.width):\n",
        "                for d in move:\n",
        "                    if(self.board[i][j]=='.' and self.feasible(i+d[0], j+d[1], d) > 0):\n",
        "                        action.append([i,j])\n",
        "                        break\n",
        "        return action\n",
        "\n",
        "    def feasible(self, x, y, dxy): \n",
        "        \"\"\"해당 위치에 돌을 놓을 수 있는지 확인하는 함수\"\"\"\n",
        "        if(x < 0 or y < 0 or x >= self.height or y >= self.width or self.board[x][y] == '.'):\n",
        "            return -1\n",
        "        elif(self.board[x][y] == self.to_move):\n",
        "            return 0\n",
        "        else:\n",
        "            tmp = self.feasible(x + dxy[0], y + dxy[1], dxy)\n",
        "            if(tmp != -1):\n",
        "                return tmp + 1\n",
        "            return -1\n",
        "    \n",
        "    def turn(self, x, y, dxy):\n",
        "        \"\"\"상대 돌을 뒤집는 함수\"\"\"\n",
        "        if(x < 0 or y < 0 or x>=self.height or y>=self.width or self.board[x][y]=='.'):\n",
        "            return -1\n",
        "        elif(self.board[x][y]==self.to_move):\n",
        "            return 0\n",
        "        else:\n",
        "            tmp = self.turn(x+dxy[0], y+dxy[1], dxy)\n",
        "            if(tmp != -1):\n",
        "                self.board[x][y] = self.to_move\n",
        "                return 0\n",
        "            return -1\n",
        "    \n",
        "    def check_all_dirt(self,action):\n",
        "        \"\"\"8방향에 대해 돌을 놓을 수 있는지 확인하는 함수\"\"\"\n",
        "        move = ((0,1),(1,0),(0,-1),(-1,0),(1,1),(-1,1),(1,-1),(-1,-1))\n",
        "        \n",
        "        for d in move:\n",
        "            self.turn(action[0]+d[0], action[1]+d[1], d)\n",
        "\n",
        "    def result(self, action):\n",
        "        \"\"\"반환할 새로운 게임(보드)를 위해 새로운 객체 board2생성\n",
        "        깊은복사를 위해 새로운 보드에 현재 보드(2차원 배열) 복사\n",
        "        돌을 놓고 바뀐 결과를 담은 객체 board2반환\"\"\"\n",
        "        board2 = Othello(self.height, self.width, self.to_move)\n",
        "        board2.board = [self.board[x][:] for x in range(self.height)]\n",
        "        board2.check_all_dirt(action)\n",
        "        board2.board[action[0]][action[1]] = self.to_move\n",
        "        board2.turn_change()\n",
        "        \n",
        "        return board2\n",
        "\n",
        "    def turn_change(self):\n",
        "        \"\"\"수를 놓는 차례 변경\"\"\"\n",
        "        if self.to_move=='○': \n",
        "            self.to_move = '●'\n",
        "        else: \n",
        "            self.to_move = '○'\n",
        "\n",
        "    def utility(self):\n",
        "        \"\"\"●가 먼저 시작\n",
        "        반환되는 값이 양수면 ●승리\n",
        "        반환되는 값이 음수면 ○승리\"\"\"\n",
        "        cnt = 0\n",
        "        for i in range(self.height):\n",
        "            for j in range(self.width):\n",
        "                if self.board[i][j] == '●':\n",
        "                    cnt += 1\n",
        "                elif self.board[i][j] =='○':\n",
        "                    cnt -= 1\n",
        "        return cnt\n",
        "\n",
        "    def is_terminal(self):\n",
        "        \"\"\"두 플레이어 모두 수를 둘 수 없을 때, 터미널 상태로 인지하고 중단\"\"\"\n",
        "        a = self.actions()\n",
        "        self.turn_change()\n",
        "        b = self.actions()\n",
        "        self.turn_change()\n",
        "        if(not a and not b):\n",
        "            return 1\n",
        "        return 0\n",
        "\n",
        "    def display(self, util = False): \n",
        "        \"\"\"현재 배열 출력 함수\"\"\"\n",
        "        for i in range(self.height):\n",
        "            for j in range(self.width):\n",
        "                if(self.board[i][j]=='.'): print('',end=\" \")\n",
        "                print(self.board[i][j], end=\" \")\n",
        "            print()\n",
        "        if util:\n",
        "            return self.utility()"
      ]
    },
    {
      "cell_type": "markdown",
      "metadata": {
        "id": "eag9YDmdpNIh"
      },
      "source": [
        "### 게임 참가자(player) 정의"
      ]
    },
    {
      "cell_type": "code",
      "execution_count": 8,
      "metadata": {
        "id": "hPjq5_YApNIi"
      },
      "outputs": [],
      "source": [
        "def random_player(game):\n",
        "    \"\"\"허용되는 수(move) 중에서 무작위로 하나를 선택하는 플레이어\"\"\"\n",
        "    act = game.actions()\n",
        "    if not act:\n",
        "        return None\n",
        "    return random.choice(game.actions())\n",
        "\n",
        "def player(search_algorithm, c_depth=0):\n",
        "    \"\"\"지정된 탐색 알고리즘을 사용하는 플레이어: (game)을 입력 받아 move를 리턴하는 함수.\"\"\"\n",
        "    return lambda game : search_algorithm(game, c_depth)[1]"
      ]
    },
    {
      "cell_type": "code",
      "execution_count": 9,
      "metadata": {
        "id": "QUSAYPghpNIi"
      },
      "outputs": [],
      "source": [
        "def query_player(game):\n",
        "    \"\"\"다음 수(move)를 직접 입력하는 형태의 플레이어\"\"\"\n",
        "    cheerup = [\"좋습니다.\", \"허를 찌르는 수입니다.\", \"훌륭하군요!\", \"한 수 배워갑니다.\", \"예상치 못한 수...(사실 그런거 없음)\", \"대단합니다!\"]\n",
        "    print(\"현재 상태:\")\n",
        "    game.display()\n",
        "    print(\"\")\n",
        "    move = None\n",
        "    actions = game.actions()\n",
        "    if actions:\n",
        "        while True:\n",
        "            print(f\"가능한 수: {actions}\")\n",
        "            move_string = input('당신의 수는? (돌을 둘 위치 입력; 예: (1,1)(세로, 가로)): ')\n",
        "            col, row = int(move_string.split(',')[0]), int(move_string.split(',')[1])\n",
        "            if [col, row] in actions:\n",
        "                print()\n",
        "                print(random.choice(cheerup))\n",
        "                print()\n",
        "                break\n",
        "                \n",
        "            print()\n",
        "            print(\"===============================\")\n",
        "            print(\"가능한 수만 둘 수 있습니다! 다시 두세요\")\n",
        "            print(\"===============================\")\n",
        "            print()\n",
        "            print(\"현재 상태:\")\n",
        "            game.display()\n",
        "            continue\n",
        "        try:\n",
        "            move = eval(move_string)\n",
        "            \n",
        "        except NameError:\n",
        "            move = move_string\n",
        "    else:\n",
        "        print(\"=================================\")\n",
        "        print('가능한 수가 없음: 상대방에게 순서가 넘어감.')\n",
        "        print(\"=================================\")\n",
        "    return move"
      ]
    },
    {
      "cell_type": "markdown",
      "metadata": {
        "id": "pA3UQgjvpNIi"
      },
      "source": [
        "# 게임하기"
      ]
    },
    {
      "cell_type": "markdown",
      "metadata": {
        "id": "OuQR_xxsQe7s"
      },
      "source": [
        "#### 가능한 탐색 : \n",
        "\n",
        "##### 1. player(  alphabeta_search  )  => 알파-베타 가지치기 탐색\n",
        "\n",
        "##### 2. player(  h_alphabeta_search ,   cutoff_depth  )  => 휴리스틱 알파-베타 탐색 ( 매개변수로 원하는 cutoff 깊이 입력 )\n",
        "\n",
        "##### 3. random_player  => 랜덤 탐색(무작위 보행)\n",
        "\n",
        "##### 4. query_player  => 사용자 플레이\n",
        "<hr>"
      ]
    },
    {
      "cell_type": "markdown",
      "metadata": {
        "id": "LBrNfIz_Qe7s"
      },
      "source": [
        "# 플레이 방법: \n",
        "\n",
        "\n",
        "```python\n",
        "양식: play_game(Othello(보드판의 높이, 보드판의 너비, '●'), {'●':선수자 탐색, '○':후수자 탐색}, verbose=참 or 거짓) \n",
        "```\n",
        "\n",
        "        위 양식에 변수를 입력\n",
        "\n",
        "        보드판의 높이: 게임을 할 보드판의 높이\n",
        "        보드판의 너비: 게임을 할 보드판의 너비\n",
        "        선수자 탐색 : 가능한 탐색 4가지중 한가지 선택\n",
        "        후수자 탐색 : 가능한 탐색 4가지중 한가지 선택\n",
        "        참 or 거짓 : True입력시 진행 상황마다 보드판 출력, False입력시 출력x\n",
        "\n",
        "#### ※주의사항※\n",
        "\n",
        "        보드의 판을 5x5이상으로 설정 할 경우, alphabeta_search가 매우 느려져서 결과 확인에 큰 무리가 있음\n",
        "        보드의 판을 4x4로 설정 할 경우, 후수자가 모서리를 확보하는 경우의 수가 많아지기 때문에 후수자의 승률이 매우 올라감\n",
        "        보드의 판을 5x5로 설정 할 경우, h_alphabeta_search의 cutoff 깊이는 6~8이 적당함 ( 그 이상은 실행 속도가 매우 느려짐 )\n",
        "        보드의 판을 6x6으로 설정 할 경우, h_alphabeta_search의 cutoff 깊이는 4~6이 적당함 ( 그 이상은 실행 속도가 매우 느려짐 )\n",
        "        \n",
        "<hr>"
      ]
    },
    {
      "cell_type": "markdown",
      "metadata": {
        "id": "f4t6-fUXQe7s"
      },
      "source": [
        "### 1. 게임 결과만 확인하기\n",
        "\n",
        "###### 기본 세팅 :  양식에 원하는 변수 입력\n",
        "    \n",
        "    방법1: 양식에 .utility()를 붙여서 실행 => 게임 결과 값만 출력\n",
        "          출력된 값 => 양수이면 선수자 승리, 음수이면 후수자 승리, 0이면 무승부\n",
        "          (결과의 절댓값이 클수록 월등히 이긴것임)\n",
        "          \n",
        "    방법2: 양식에 .display()를 붙여서 실행 => 게임 결과 보드판만 출력\n",
        "    \n",
        "    방법3: 양식에 .display(True)를 붙여서 실행 => 게임 결과 보드판 출력 및 값 반환\n",
        "<hr>"
      ]
    },
    {
      "cell_type": "markdown",
      "metadata": {
        "id": "jY55bOPhQe7s"
      },
      "source": [
        "##### 게임 결과만 확인하기; 방법1"
      ]
    },
    {
      "cell_type": "code",
      "execution_count": 10,
      "metadata": {
        "colab": {
          "base_uri": "https://localhost:8080/"
        },
        "id": "RolTdjSNQe7s",
        "outputId": "919b286a-df24-40e6-bb48-70e7300dce1d",
        "scrolled": true
      },
      "outputs": [
        {
          "data": {
            "text/plain": [
              "-9"
            ]
          },
          "execution_count": 10,
          "metadata": {},
          "output_type": "execute_result"
        }
      ],
      "source": [
        "play_game(Othello(4, 4, '●'), {'●':player(h_alphabeta_search, 6), '○':player(alphabeta_search)}, verbose=False).utility()"
      ]
    },
    {
      "cell_type": "markdown",
      "metadata": {
        "id": "awUJnC82Qe7s"
      },
      "source": [
        "##### 게임 결과만 확인하기; 방법2"
      ]
    },
    {
      "cell_type": "code",
      "execution_count": 11,
      "metadata": {
        "colab": {
          "base_uri": "https://localhost:8080/"
        },
        "id": "A7GlNIDbpNIj",
        "outputId": "e6cadec3-08e9-479e-f1cd-f5f38500484d"
      },
      "outputs": [
        {
          "name": "stdout",
          "output_type": "stream",
          "text": [
            "○ ○ ● ● \n",
            " . ● ● ● \n",
            "● ● ● ● \n",
            " . ●  . ● \n"
          ]
        }
      ],
      "source": [
        "play_game(Othello(4, 4, '●'), {'●':player(alphabeta_search), '○':random_player}, verbose=False).display()"
      ]
    },
    {
      "cell_type": "markdown",
      "metadata": {
        "id": "z5jDiR01Qe7t"
      },
      "source": [
        "##### 게임 결과만 확인하기; 방법3"
      ]
    },
    {
      "cell_type": "code",
      "execution_count": 12,
      "metadata": {
        "colab": {
          "base_uri": "https://localhost:8080/"
        },
        "id": "ijfeQBtHpNIj",
        "outputId": "f46e3caa-03fb-48f0-d0c1-a33d0a2f9cf2"
      },
      "outputs": [
        {
          "name": "stdout",
          "output_type": "stream",
          "text": [
            "● ○ ○ ○ \n",
            " . ○ ○ ○ \n",
            " . ○ ○ ○ \n",
            "● ○ ○ ● \n",
            "-8\n"
          ]
        }
      ],
      "source": [
        "print(play_game(Othello(4, 4, '●'), {'●':player(h_alphabeta_search, 4), '○':player(h_alphabeta_search, 6)}, verbose=False).display(True))"
      ]
    },
    {
      "cell_type": "markdown",
      "metadata": {
        "id": "NCSYEbKJQe7t"
      },
      "source": [
        "<hr>"
      ]
    },
    {
      "cell_type": "markdown",
      "metadata": {
        "id": "tITJ2DygQe7t"
      },
      "source": [
        "### 2. n번 실행 후 통계 확인하기\n",
        "\n",
        "###### 기본세팅 :  반복문의 첫 문장( 10행 ) 에 위치한 양식에 원하는 변수 입력  ( 양식 끝에 있는 utility()함수는 지우지 말것! )\n",
        "    \n",
        "    원하는 반복 횟수를 입력하면 사용자가 실행시킨 탐색 방법으로 진행한 게임의 통계 확인 가능"
      ]
    },
    {
      "cell_type": "code",
      "execution_count": 13,
      "metadata": {
        "colab": {
          "base_uri": "https://localhost:8080/"
        },
        "id": "4TEzqUSPpNIj",
        "outputId": "384c74ff-576d-4fbe-82bd-987f8648f5f9",
        "scrolled": false
      },
      "outputs": [
        {
          "name": "stdout",
          "output_type": "stream",
          "text": [
            "몇 회 실행하시겠습니까?5\n",
            "시작 종료\n",
            "####진행 완료!\n",
            "\n",
            "5회 실행시 통계\n",
            "======================\n",
            "선수자 승률: 0.0%\n",
            "후수자 승률: 100.0%\n",
            "무승부 횟수: 0회\n"
          ]
        }
      ],
      "source": [
        "draw = 0\n",
        "win = 0\n",
        "lose = 0\n",
        "n = int(input(\"몇 회 실행하시겠습니까?\"))\n",
        "print(\"시작\", end = '')\n",
        "print(\" \"*(n-4), end = '')\n",
        "print(\"종료\")\n",
        "\n",
        "for i in range(n):\n",
        "  ex = play_game(Othello(10, 10, '●'), {'●':random_player, '○':player(h_alphabeta_search, 1)}, verbose=False).utility()\n",
        "  if ex > 0:\n",
        "    win += 1\n",
        "  elif ex < 0:\n",
        "    lose += 1\n",
        "  else:\n",
        "    draw += 1\n",
        "  \n",
        "  if i == n-1:\n",
        "    print(\"진행 완료!\")\n",
        "    print()\n",
        "  else:\n",
        "    print(\"#\", end = '')\n",
        "\n",
        "print(f\"{n}회 실행시 통계\")\n",
        "print(\"======================\")\n",
        "print(f\"선수자 승률: {round(win/n*100, 2)}%\")\n",
        "print(f\"후수자 승률: {round(lose/n*100, 2)}%\")\n",
        "print(f\"무승부 횟수: {draw}회\")"
      ]
    },
    {
      "cell_type": "markdown",
      "metadata": {
        "id": "YQgdQM4MQe7t"
      },
      "source": [
        "<hr>"
      ]
    },
    {
      "cell_type": "markdown",
      "metadata": {
        "id": "iX74zW5NQe7t"
      },
      "source": [
        "### 3. 사용자 플레이하기\n",
        "\n",
        "###### 기본세팅 :  첫 행에 위치한 양식에 원하는 변수 입력  ( 양식 끝에 있는 utility()함수는 지우지 말것! )\n",
        "\n",
        "        탐색 방법을 넣는 변수중 한개에 query_player를 입력\n",
        "        다른 한개에는 대결하기 원하는 탐색 방법 입력 후 실행\n",
        "        \n",
        "        게임 종료시 어떤 플레이어가 이겼는지 반환"
      ]
    },
    {
      "cell_type": "code",
      "execution_count": 14,
      "metadata": {
        "colab": {
          "base_uri": "https://localhost:8080/"
        },
        "id": "MwDf0PuqpNIk",
        "outputId": "ff780d0d-9f5f-4ebc-9bd1-a7115e16e4c7"
      },
      "outputs": [
        {
          "name": "stdout",
          "output_type": "stream",
          "text": [
            "현재 상태:\n",
            " .  .  .  . \n",
            " . ● ○  . \n",
            " . ○ ●  . \n",
            " .  .  .  . \n",
            "\n",
            "가능한 수: [[0, 2], [1, 3], [2, 0], [3, 1]]\n",
            "당신의 수는? (돌을 둘 위치 입력; 예: (1,1)(세로, 가로)): 0,2\n",
            "\n",
            "허를 찌르는 수입니다.\n",
            "\n",
            "현재 상태:\n",
            " .  . ● ○ \n",
            " . ● ○  . \n",
            " . ○ ●  . \n",
            " .  .  .  . \n",
            "\n",
            "가능한 수: [[1, 3], [2, 0], [3, 1]]\n",
            "당신의 수는? (돌을 둘 위치 입력; 예: (1,1)(세로, 가로)): 1,3\n",
            "\n",
            "예상치 못한 수...(사실 그런거 없음)\n",
            "\n",
            "현재 상태:\n",
            " . ○ ○ ○ \n",
            " . ○ ● ● \n",
            " . ○ ●  . \n",
            " .  .  .  . \n",
            "\n",
            "가능한 수: [[0, 0], [1, 0], [2, 0], [3, 0]]\n",
            "당신의 수는? (돌을 둘 위치 입력; 예: (1,1)(세로, 가로)): 0,0\n",
            "\n",
            "대단합니다!\n",
            "\n",
            "현재 상태:\n",
            "● ○ ○ ○ \n",
            " . ● ○ ○ \n",
            " . ○ ○ ○ \n",
            " .  .  .  . \n",
            "\n",
            "가능한 수: [[3, 1], [3, 3]]\n",
            "당신의 수는? (돌을 둘 위치 입력; 예: (1,1)(세로, 가로)): 3,1\n",
            "\n",
            "한 수 배워갑니다.\n",
            "\n",
            "현재 상태:\n",
            "● ○ ○ ○ \n",
            " . ○ ○ ○ \n",
            "○ ○ ○ ○ \n",
            " . ●  .  . \n",
            "\n",
            "가능한 수: [[3, 3]]\n",
            "당신의 수는? (돌을 둘 위치 입력; 예: (1,1)(세로, 가로)): 3,3\n",
            "\n",
            "훌륭하군요!\n",
            "\n",
            "현재 상태:\n",
            "● ○ ○ ○ \n",
            " . ● ○ ○ \n",
            "○ ○ ○ ○ \n",
            " . ● ○ ● \n",
            "\n",
            "=================================\n",
            "가능한 수가 없음: 상대방에게 순서가 넘어감.\n",
            "=================================\n",
            "현재 상태:\n",
            "● ○ ○ ○ \n",
            " . ● ○ ○ \n",
            "○ ○ ○ ○ \n",
            "○ ○ ○ ● \n",
            "\n",
            "=================================\n",
            "가능한 수가 없음: 상대방에게 순서가 넘어감.\n",
            "=================================\n",
            "● ○ ○ ○ \n",
            "○ ○ ○ ○ \n",
            "○ ○ ○ ○ \n",
            "○ ○ ○ ● \n",
            "후수자의 승리입니다!\n",
            "재시작을 원한다면 Shift + Enter를 눌러주세요\n"
          ]
        }
      ],
      "source": [
        "score = play_game(Othello(4, 4, '●'), {'●':query_player, '○':player(alphabeta_search)}, verbose = False).display(True)\n",
        "\n",
        "if score > 0:\n",
        "    print(\"선수자의 승리입니다!\")\n",
        "elif score < 0:\n",
        "    print(\"후수자의 승리입니다!\")\n",
        "else:\n",
        "    print(\"무승부 입니다!\")\n",
        "print(\"재시작을 원한다면 Shift + Enter를 눌러주세요\")"
      ]
    },
    {
      "cell_type": "code",
      "execution_count": 14,
      "metadata": {
        "id": "6bjpGKPfQe7u"
      },
      "outputs": [],
      "source": []
    }
  ],
  "metadata": {
    "colab": {
      "provenance": []
    },
    "kernelspec": {
      "display_name": "Python 3 (ipykernel)",
      "language": "python",
      "name": "python3"
    },
    "language_info": {
      "codemirror_mode": {
        "name": "ipython",
        "version": 3
      },
      "file_extension": ".py",
      "mimetype": "text/x-python",
      "name": "python",
      "nbconvert_exporter": "python",
      "pygments_lexer": "ipython3",
      "version": "3.10.9"
    }
  },
  "nbformat": 4,
  "nbformat_minor": 0
}
