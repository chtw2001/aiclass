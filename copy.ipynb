{
  "cells": [
    {
      "cell_type": "markdown",
      "metadata": {
        "id": "hkGReb0gpNIS"
      },
      "source": [
        "적대적 탐색 알고리즘의 동작 방식을 이해하고 이를 이용하여 게임 프로그램을 만드는 예를 살펴 봅시다. 여기 제공하는 코드는 GitHub aima-python의 코드를 기반으로 일부 수정한 것임."
      ]
    },
    {
      "cell_type": "code",
      "execution_count": 62,
      "metadata": {
        "id": "5DvDelF-pNIX"
      },
      "outputs": [],
      "source": [
        "from collections import defaultdict\n",
        "import random\n",
        "import math\n",
        "import sys\n",
        "sys.setrecursionlimit(10000)\n",
        "infinity = math.inf"
      ]
    },
    {
      "cell_type": "markdown",
      "metadata": {
        "id": "7f0ll6tvpNIZ"
      },
      "source": [
        "## 게임 문제 정의\n",
        "자신만의 게임 문제를 정의하려면 Game 클래스의 서브 클래스를 정의하면 됨."
      ]
    },
    {
      "cell_type": "code",
      "execution_count": 2,
      "metadata": {
        "id": "TxFcgN4RpNIZ"
      },
      "outputs": [],
      "source": [
        "class Game:\n",
        "    \"\"\"문제를 정의하기 위한 Problem 클래스에 대응되는 게임 정의를 위한 클래스.\n",
        "    경로 비용과 목표 검사 대신 각 상태에 대한 효용 함수와 종료 검사로 구성됨.\n",
        "    게임을 정의하려면 이 클래스의 서브 클래스를 만들어서\n",
        "    actions, result, is_terminal, utility를 구현하면 됨.\n",
        "    필요에 따라 게임의 초기 상태를 지정하려면,\n",
        "    클래스 생성자에서 초기 상태를 initial 에 세팅하면 됨.\"\"\"\n",
        "\n",
        "    def actions(self, state):\n",
        "        \"\"\"주어진 상태에서 허용 가능한 수(move) 리스트\"\"\"\n",
        "        raise NotImplementedError\n",
        "\n",
        "    def result(self, state, move):\n",
        "        \"\"\"주어진 상태(state)에서 수(move)를 두었을 때의 결과 상태 리턴\"\"\"\n",
        "        raise NotImplementedError\n",
        "\n",
        "    def is_terminal(self, state):\n",
        "        \"\"\"state가 종료 상태이면 True 리턴\"\"\"\n",
        "        return not self.actions(state)\n",
        "    \n",
        "    def utility(self, state, player):\n",
        "        \"\"\"종료 상태 state에서 게임이 종료됐을 때 player의 효용 함수 값\"\"\"\n",
        "        raise NotImplementedError"
      ]
    },
    {
      "cell_type": "code",
      "execution_count": 43,
      "metadata": {
        "id": "eRE4STQLpNIa"
      },
      "outputs": [],
      "source": [
        "def play_game(game, strategies: dict, verbose=False):\n",
        "    \"\"\"번갈아 가면서 두는 게임 진행 함수.\n",
        "    strategies: {참가자 이름: 함수} 형태의 딕셔너리. \n",
        "    여기서 함수(game, state)는 상태 state에서 참가자의 수(move)를 찾는 함수\"\"\"\n",
        "    #state = game.initial\n",
        "\n",
        "    state = game.board\n",
        "    print(strategies)\n",
        "    while not game.is_terminal():\n",
        "        player = game.to_move\n",
        "        move = strategies[player](game, state)\n",
        "        state = game.result()\n",
        "        if verbose: \n",
        "            print('Player', player, 'move:', move)\n",
        "            print(state)\n",
        "    return state"
      ]
    },
    {
      "cell_type": "markdown",
      "metadata": {
        "id": "9t_ohrTlpNIb"
      },
      "source": [
        "## 적대적 탐색 알고리즘 구현"
      ]
    },
    {
      "cell_type": "markdown",
      "metadata": {
        "id": "GIkbL4AupNIb"
      },
      "source": [
        "### 미니맥스 탐색"
      ]
    },
    {
      "cell_type": "code",
      "execution_count": 4,
      "metadata": {
        "id": "agq5EhPfpNIc"
      },
      "outputs": [],
      "source": [
        "def minimax_search(game, state):\n",
        "    \"\"\"최고의 수를 결정하기 위한 게임 트리 탐색.\n",
        "    (미니맥스 값, 수) 쌍을 리턴함.\"\"\"\n",
        "\n",
        "    player = state.to_move\n",
        "\n",
        "    def max_value(state):\n",
        "        if game.is_terminal():\n",
        "            return game.utility(state, player), None\n",
        "        v, move = -infinity, None\n",
        "        for a in game.actions(state):\n",
        "            v2, _ = min_value(game.result(state, a))\n",
        "            if v2 > v:\n",
        "                v, move = v2, a\n",
        "        return v, move\n",
        "\n",
        "    def min_value(state):\n",
        "        if game.is_terminal():\n",
        "            return game.utility(state, player), None\n",
        "        v, move = +infinity, None\n",
        "        for a in game.actions(state):\n",
        "            v2, _ = max_value(game.result(state, a))\n",
        "            if v2 < v:\n",
        "                v, move = v2, a\n",
        "        return v, move\n",
        "\n",
        "    return max_value(state)"
      ]
    },
    {
      "cell_type": "markdown",
      "metadata": {
        "id": "1t8K1wNnpNId"
      },
      "source": [
        "### 알파-베타 탐색"
      ]
    },
    {
      "cell_type": "code",
      "execution_count": 52,
      "metadata": {
        "id": "TDVwtFvxpNId"
      },
      "outputs": [],
      "source": [
        "def alphabeta_search(game, state):\n",
        "    \"\"\"알파-베타 가지치기를 사용하여 최고의 수를 결정하기 위한 게임 트리 탐색.\"\"\"\n",
        "\n",
        "    player = game.to_move\n",
        "\n",
        "    def max_value(state, alpha, beta):\n",
        "        if game.is_terminal():\n",
        "            return game.utility(state, player), None\n",
        "        v, move = -infinity, None\n",
        "        for a in game.actions():\n",
        "            v2, _ = min_value(game.result(a), alpha, beta)\n",
        "            if v2 > v:\n",
        "                v, move = v2, a\n",
        "                alpha = max(alpha, v)\n",
        "            if v >= beta:\n",
        "                return v, move\n",
        "        if not move:\n",
        "            game.to_move = '○'\n",
        "            return min_value(state, alpha, beta)\n",
        "        return v, move\n",
        "\n",
        "    def min_value(state, alpha, beta):\n",
        "        if game.is_terminal():\n",
        "            return game.utility(state, player), None\n",
        "        v, move = +infinity, None\n",
        "        for a in game.actions():\n",
        "            v2, _ = max_value(game.result(a), alpha, beta)\n",
        "            if v2 < v:\n",
        "                v, move = v2, a\n",
        "                beta = min(beta, v)\n",
        "            if v <= alpha:\n",
        "                return v, move\n",
        "        if not move:\n",
        "            game.to_move =  '●'\n",
        "            return max_value(state, alpha, beta)   \n",
        "        return v, move\n",
        "\n",
        "    return max_value(state, -infinity, +infinity)"
      ]
    },
    {
      "cell_type": "markdown",
      "metadata": {
        "id": "DrnlRAc_pNIe"
      },
      "source": [
        "### 휴리스틱 알파-베타 탐색"
      ]
    },
    {
      "cell_type": "code",
      "execution_count": 6,
      "metadata": {
        "id": "8feQm3QbpNIf"
      },
      "outputs": [],
      "source": [
        "def cutoff_depth(d):\n",
        "    \"\"\"깊이 d까지만 탐색하도록 하는 중단 함수: depth > d이면 True 리턴.\"\"\"\n",
        "    return lambda game, state, depth: depth > d\n",
        "\n",
        "def h_alphabeta_search(game, state, cutoff=cutoff_depth(6), h=lambda s, p: 0):\n",
        "    \"\"\"휴리스틱 알파-베타 탐색\"\"\"\n",
        "\n",
        "    player = state.to_move\n",
        "\n",
        "    def max_value(state, alpha, beta, depth):\n",
        "        if game.is_terminal():\n",
        "            return game.utility(state, player), None\n",
        "        if cutoff(game, state, depth):\n",
        "            return h(state, player), None\n",
        "        v, move = -infinity, None\n",
        "        for a in game.actions(state):\n",
        "            v2, _ = min_value(game.result(state, a), alpha, beta, depth+1)\n",
        "            if v2 > v:\n",
        "                v, move = v2, a\n",
        "                alpha = max(alpha, v)\n",
        "            if v >= beta:\n",
        "                return v, move\n",
        "        return v, move\n",
        "\n",
        "    def min_value(state, alpha, beta, depth):\n",
        "        if game.is_terminal():\n",
        "            return game.utility(state, player), None\n",
        "        if cutoff(game, state, depth):\n",
        "            return h(state, player), None\n",
        "        v, move = +infinity, None\n",
        "        for a in game.actions(state):\n",
        "            v2, _ = max_value(game.result(state, a), alpha, beta, depth + 1)\n",
        "            if v2 < v:\n",
        "                v, move = v2, a\n",
        "                beta = min(beta, v)\n",
        "            if v <= alpha:\n",
        "                return v, move\n",
        "        return v, move\n",
        "\n",
        "    return max_value(state, -infinity, +infinity, 0)"
      ]
    },
    {
      "cell_type": "markdown",
      "metadata": {
        "id": "5S5bnhlSpNIg"
      },
      "source": [
        "## Othello(리버시) 게임"
      ]
    },
    {
      "cell_type": "markdown",
      "metadata": {
        "id": "QOmgm1tYpNIg"
      },
      "source": [
        "### 게임 정의"
      ]
    },
    {
      "cell_type": "code",
      "execution_count": 60,
      "metadata": {
        "id": "6UBgKpWilx3s"
      },
      "outputs": [],
      "source": [
        "class Othello(Game):\n",
        "    \"\"\"Othello 게임. 보드 크기: width * height. 모든 판을 채웠을 때 더 많은 색을 가진 사람이 승리\n",
        "    '●'와 '○'가 게임 플레이. '●'가 먼저 플레이.\n",
        "    (0, 0) 위치는 보드의 좌상단 끝 위치.\"\"\"\n",
        "\n",
        "    def __init__(self, height, width, to_move): # 가로, 세로는 입력받을 수 있도록 수정\n",
        "        self.height=height\n",
        "        self.width=width\n",
        "        self.board = [[ '.' for x in range(width)] for y in range(height)]\n",
        "        self.board[width//2][height//2]='●'\n",
        "        self.board[width//2-1][height//2-1]='●'\n",
        "        self.board[width//2-1][height//2]='○'\n",
        "        self.board[width//2][height//2-1]='○'\n",
        "        self.to_move = to_move\n",
        "\n",
        "    def actions(self):\n",
        "        move = ((0,1),(1,0),(0,-1),(-1,0),(1,1),(-1,1),(1,-1),(-1,-1))\n",
        "        \"\"\"내 돌을 놓을 수 있는 위치들\"\"\"\n",
        "        action = set()\n",
        "        for i in range(self.width):\n",
        "            for j in range(self.height):\n",
        "                for d in move:\n",
        "                    if(self.feasible(i+d[0], j+d[1], d) > 0):\n",
        "                        action.add((i,j))\n",
        "                        break\n",
        "        return action\n",
        "\n",
        "    def feasible(self, x, y, dxy): # turn_check가 직관적이지 않아서 가능한 해인가? 라는 뜻의 feasible로 함수명 변경\n",
        "        if(x >= self.width or y >= self.height or self.board[x][y] == '.'):\n",
        "            return -1\n",
        "        elif(self.board[x][y] == self.to_move):\n",
        "            return 0\n",
        "        else:\n",
        "            tmp = self.feasible(x + dxy[0], y + dxy[1], dxy)\n",
        "            if(tmp != -1):\n",
        "                return tmp + 1\n",
        "            return -1\n",
        "    \n",
        "    def turn(self, x, y, dxy): # turn_check => turn \n",
        "        '''진짜 뒤집음'''\n",
        "        if(x>=self.width or y>=self.height or self.board[x][y]=='.'):\n",
        "            return -1\n",
        "        elif(self.board[x][y]==self.to_move):\n",
        "            return 0\n",
        "        else:\n",
        "            tmp = self.turn(x+dxy[0], y+dxy[1], dxy)\n",
        "            if(tmp != -1):\n",
        "                self.board[x][y] = self.to_move\n",
        "                return 0\n",
        "            return -1\n",
        "    \n",
        "    def check_all_dirt(self,action): # turn_all_dirt => check_all_dirt\n",
        "        '''8방향 뒤집기 체크'''\n",
        "        move = ((0,1),(1,0),(0,-1),(-1,0),(1,1),(-1,1),(1,-1),(-1,-1))\n",
        "        \n",
        "        for d in move:\n",
        "            self.turn(action[0]+d[0], action[1]+d[1], d)\n",
        "\n",
        "    def result(self, action):\n",
        "        \"\"\"board의 square 위치에 현재 플레이어의 표시를 위치시킴.\"\"\"\n",
        "        board2 = Othello(self.height, self.width, self.to_move)\n",
        "        board2.board = [self.board[x][:] for x in range(self.height)]\n",
        "        board2.check_all_dirt(action)\n",
        "        board2.board[action[0]][action[1]] = self.to_move\n",
        "        \n",
        "        if self.to_move=='○': \n",
        "            self.to_move = '●'\n",
        "        else: \n",
        "            self.to_move = '○'\n",
        "        \n",
        "        # win = k_in_row(board, player, self.k)\n",
        "        # board.utility = (0 if not win else +1 if player == 'X' else -1)\n",
        "        return board2.board\n",
        "\n",
        "    def utility(self, board, player):\n",
        "        \"\"\"승리: 1, 패배: -1, 그외: 0\"\"\"\n",
        "        cnt = 0\n",
        "        for i in range(self.height):\n",
        "            for j in range(self.width):\n",
        "                if board[i][j] == '●':\n",
        "                    cnt += 1\n",
        "        return cnt\n",
        "        #return board.utility if player == 'X' else -board.utility\n",
        "\n",
        "    def is_terminal(self):    # 아래 return문 주석처리 후 내용 추가 => -1이면 단말노드x, 1이면 단말노드o\n",
        "        \"\"\"승/패가 결정되었거나 빈 위치가 존재하지 않으면 종료 상태임.\"\"\"\n",
        "        for i in range(self.height):\n",
        "            for j in range(self.width):\n",
        "                if self.board[i][j] == '.':\n",
        "                    return 0 # 단말노드가 아님\n",
        "        return 1 # 단말노드임\n",
        "                \n",
        "        # return board.utility != 0 or len(self.squares) == len(board)\n",
        "\n",
        "    def display(self, board):  # print(board) => 아래 코드로 변경\n",
        "        for i in range(board.height):\n",
        "            for j in range(board.width):\n",
        "                print(board.board[i][j], end=\" \")\n",
        "            print()\n",
        "\n",
        "# def k_in_row(board, player, square, k):\n",
        "#     \"\"\"일직선으로 k개의 player 돌이 놓여 있으면 True 리턴.\"\"\"\n",
        "#     def in_row(x, y, dx, dy): return 0 if board[x, y] != player else 1 + in_row(x + dx, y + dy, dx, dy)\n",
        "#     return any(in_row(*square, dx, dy) + in_row(*square, -dx, -dy) - 1 >= k\n",
        "#                for (dx, dy) in ((0, 1), (1, 0), (1, 1), (1, -1)))"
      ]
    },
    {
      "cell_type": "code",
      "execution_count": null,
      "metadata": {
        "id": "6-f7AQn6pNIh"
      },
      "outputs": [],
      "source": []
    },
    {
      "cell_type": "markdown",
      "metadata": {
        "id": "eag9YDmdpNIh"
      },
      "source": [
        "### 게임 참가자(player) 정의"
      ]
    },
    {
      "cell_type": "code",
      "execution_count": 9,
      "metadata": {
        "id": "hPjq5_YApNIi"
      },
      "outputs": [],
      "source": [
        "def random_player(game, state):\n",
        "    \"\"\"허용되는 수(move) 중에서 무작위로 하나를 선택하는 플레이어\"\"\"\n",
        "    return random.choice(list(game.actions(state)))\n",
        "\n",
        "def player(search_algorithm):\n",
        "    \"\"\"지정된 탐색 알고리즘을 사용하는 플레이어: (game, state)를 입력 받아 move를 리턴하는 함수.\"\"\"\n",
        "    return lambda game, state: search_algorithm(game, state)[1]"
      ]
    },
    {
      "cell_type": "code",
      "execution_count": 10,
      "metadata": {
        "id": "QUSAYPghpNIi"
      },
      "outputs": [],
      "source": [
        "def query_player(game, state):\n",
        "    \"\"\"다음 수(move)를 직접 입력하는 형태의 플레이어\"\"\"\n",
        "    print(\"현재 상태:\")\n",
        "    game.display(state)\n",
        "    print(f\"가능한 수: {game.actions(state)}\")\n",
        "    print(\"\")\n",
        "    move = None\n",
        "    if game.actions(state):\n",
        "        move_string = input('당신의 수는? (돌을 둘 위치 입력; 예: (1,1)): ')\n",
        "        try:\n",
        "            move = eval(move_string)\n",
        "        except NameError:\n",
        "            move = move_string\n",
        "    else:\n",
        "        print('가능한 수가 없음: 상대방에게 순서가 넘어감.')\n",
        "    return move"
      ]
    },
    {
      "cell_type": "markdown",
      "metadata": {
        "id": "pA3UQgjvpNIi"
      },
      "source": [
        "## 게임하기"
      ]
    },
    {
      "cell_type": "code",
      "execution_count": null,
      "metadata": {},
      "outputs": [],
      "source": []
    },
    {
      "cell_type": "code",
      "execution_count": 63,
      "metadata": {
        "colab": {
          "base_uri": "https://localhost:8080/",
          "height": 420
        },
        "id": "A7GlNIDbpNIj",
        "outputId": "c66bcdf2-3e40-4c0b-e3b0-95c95641ec63",
        "scrolled": true
      },
      "outputs": [
        {
          "name": "stdout",
          "output_type": "stream",
          "text": [
            "{'●': <function player.<locals>.<lambda> at 0x7fb98b85e550>, '○': <function player.<locals>.<lambda> at 0x7fb98b85e790>}\n"
          ]
        },
        {
          "ename": "RecursionError",
          "evalue": "ignored",
          "output_type": "error",
          "traceback": [
            "\u001b[0;31m---------------------------------------------------------------------------\u001b[0m",
            "\u001b[0;31mRecursionError\u001b[0m                            Traceback (most recent call last)",
            "\u001b[0;32m<ipython-input-63-2ee6244d8dad>\u001b[0m in \u001b[0;36m<cell line: 1>\u001b[0;34m()\u001b[0m\n\u001b[0;32m----> 1\u001b[0;31m \u001b[0mplay_game\u001b[0m\u001b[0;34m(\u001b[0m\u001b[0mOthello\u001b[0m\u001b[0;34m(\u001b[0m\u001b[0;36m4\u001b[0m\u001b[0;34m,\u001b[0m \u001b[0;36m4\u001b[0m\u001b[0;34m,\u001b[0m \u001b[0;34m'●'\u001b[0m\u001b[0;34m)\u001b[0m\u001b[0;34m,\u001b[0m \u001b[0;34m{\u001b[0m\u001b[0;34m'●'\u001b[0m\u001b[0;34m:\u001b[0m\u001b[0mplayer\u001b[0m\u001b[0;34m(\u001b[0m\u001b[0malphabeta_search\u001b[0m\u001b[0;34m)\u001b[0m\u001b[0;34m,\u001b[0m \u001b[0;34m'○'\u001b[0m\u001b[0;34m:\u001b[0m\u001b[0mplayer\u001b[0m\u001b[0;34m(\u001b[0m\u001b[0mminimax_search\u001b[0m\u001b[0;34m)\u001b[0m\u001b[0;34m}\u001b[0m\u001b[0;34m,\u001b[0m \u001b[0mverbose\u001b[0m\u001b[0;34m=\u001b[0m\u001b[0;32mTrue\u001b[0m\u001b[0;34m)\u001b[0m\u001b[0;34m\u001b[0m\u001b[0;34m\u001b[0m\u001b[0m\n\u001b[0m",
            "\u001b[0;32m<ipython-input-43-a5cc82c5621f>\u001b[0m in \u001b[0;36mplay_game\u001b[0;34m(game, strategies, verbose)\u001b[0m\n\u001b[1;32m      9\u001b[0m     \u001b[0;32mwhile\u001b[0m \u001b[0;32mnot\u001b[0m \u001b[0mgame\u001b[0m\u001b[0;34m.\u001b[0m\u001b[0mis_terminal\u001b[0m\u001b[0;34m(\u001b[0m\u001b[0;34m)\u001b[0m\u001b[0;34m:\u001b[0m\u001b[0;34m\u001b[0m\u001b[0;34m\u001b[0m\u001b[0m\n\u001b[1;32m     10\u001b[0m         \u001b[0mplayer\u001b[0m \u001b[0;34m=\u001b[0m \u001b[0mgame\u001b[0m\u001b[0;34m.\u001b[0m\u001b[0mto_move\u001b[0m\u001b[0;34m\u001b[0m\u001b[0;34m\u001b[0m\u001b[0m\n\u001b[0;32m---> 11\u001b[0;31m         \u001b[0mmove\u001b[0m \u001b[0;34m=\u001b[0m \u001b[0mstrategies\u001b[0m\u001b[0;34m[\u001b[0m\u001b[0mplayer\u001b[0m\u001b[0;34m]\u001b[0m\u001b[0;34m(\u001b[0m\u001b[0mgame\u001b[0m\u001b[0;34m,\u001b[0m \u001b[0mstate\u001b[0m\u001b[0;34m)\u001b[0m\u001b[0;34m\u001b[0m\u001b[0;34m\u001b[0m\u001b[0m\n\u001b[0m\u001b[1;32m     12\u001b[0m         \u001b[0mstate\u001b[0m \u001b[0;34m=\u001b[0m \u001b[0mgame\u001b[0m\u001b[0;34m.\u001b[0m\u001b[0mresult\u001b[0m\u001b[0;34m(\u001b[0m\u001b[0;34m)\u001b[0m\u001b[0;34m\u001b[0m\u001b[0;34m\u001b[0m\u001b[0m\n\u001b[1;32m     13\u001b[0m         \u001b[0;32mif\u001b[0m \u001b[0mverbose\u001b[0m\u001b[0;34m:\u001b[0m\u001b[0;34m\u001b[0m\u001b[0;34m\u001b[0m\u001b[0m\n",
            "\u001b[0;32m<ipython-input-9-e6122a8dc65b>\u001b[0m in \u001b[0;36m<lambda>\u001b[0;34m(game, state)\u001b[0m\n\u001b[1;32m      5\u001b[0m \u001b[0;32mdef\u001b[0m \u001b[0mplayer\u001b[0m\u001b[0;34m(\u001b[0m\u001b[0msearch_algorithm\u001b[0m\u001b[0;34m)\u001b[0m\u001b[0;34m:\u001b[0m\u001b[0;34m\u001b[0m\u001b[0;34m\u001b[0m\u001b[0m\n\u001b[1;32m      6\u001b[0m     \u001b[0;34m\"\"\"지정된 탐색 알고리즘을 사용하는 플레이어: (game, state)를 입력 받아 move를 리턴하는 함수.\"\"\"\u001b[0m\u001b[0;34m\u001b[0m\u001b[0;34m\u001b[0m\u001b[0m\n\u001b[0;32m----> 7\u001b[0;31m     \u001b[0;32mreturn\u001b[0m \u001b[0;32mlambda\u001b[0m \u001b[0mgame\u001b[0m\u001b[0;34m,\u001b[0m \u001b[0mstate\u001b[0m\u001b[0;34m:\u001b[0m \u001b[0msearch_algorithm\u001b[0m\u001b[0;34m(\u001b[0m\u001b[0mgame\u001b[0m\u001b[0;34m,\u001b[0m \u001b[0mstate\u001b[0m\u001b[0;34m)\u001b[0m\u001b[0;34m[\u001b[0m\u001b[0;36m1\u001b[0m\u001b[0;34m]\u001b[0m\u001b[0;34m\u001b[0m\u001b[0;34m\u001b[0m\u001b[0m\n\u001b[0m",
            "\u001b[0;32m<ipython-input-52-02761204829f>\u001b[0m in \u001b[0;36malphabeta_search\u001b[0;34m(game, state)\u001b[0m\n\u001b[1;32m     36\u001b[0m         \u001b[0;32mreturn\u001b[0m \u001b[0mv\u001b[0m\u001b[0;34m,\u001b[0m \u001b[0mmove\u001b[0m\u001b[0;34m\u001b[0m\u001b[0;34m\u001b[0m\u001b[0m\n\u001b[1;32m     37\u001b[0m \u001b[0;34m\u001b[0m\u001b[0m\n\u001b[0;32m---> 38\u001b[0;31m     \u001b[0;32mreturn\u001b[0m \u001b[0mmax_value\u001b[0m\u001b[0;34m(\u001b[0m\u001b[0mstate\u001b[0m\u001b[0;34m,\u001b[0m \u001b[0;34m-\u001b[0m\u001b[0minfinity\u001b[0m\u001b[0;34m,\u001b[0m \u001b[0;34m+\u001b[0m\u001b[0minfinity\u001b[0m\u001b[0;34m)\u001b[0m\u001b[0;34m\u001b[0m\u001b[0;34m\u001b[0m\u001b[0m\n\u001b[0m",
            "\u001b[0;32m<ipython-input-52-02761204829f>\u001b[0m in \u001b[0;36mmax_value\u001b[0;34m(state, alpha, beta)\u001b[0m\n\u001b[1;32m      9\u001b[0m         \u001b[0mv\u001b[0m\u001b[0;34m,\u001b[0m \u001b[0mmove\u001b[0m \u001b[0;34m=\u001b[0m \u001b[0;34m-\u001b[0m\u001b[0minfinity\u001b[0m\u001b[0;34m,\u001b[0m \u001b[0;32mNone\u001b[0m\u001b[0;34m\u001b[0m\u001b[0;34m\u001b[0m\u001b[0m\n\u001b[1;32m     10\u001b[0m         \u001b[0;32mfor\u001b[0m \u001b[0ma\u001b[0m \u001b[0;32min\u001b[0m \u001b[0mgame\u001b[0m\u001b[0;34m.\u001b[0m\u001b[0mactions\u001b[0m\u001b[0;34m(\u001b[0m\u001b[0;34m)\u001b[0m\u001b[0;34m:\u001b[0m\u001b[0;34m\u001b[0m\u001b[0;34m\u001b[0m\u001b[0m\n\u001b[0;32m---> 11\u001b[0;31m             \u001b[0mv2\u001b[0m\u001b[0;34m,\u001b[0m \u001b[0m_\u001b[0m \u001b[0;34m=\u001b[0m \u001b[0mmin_value\u001b[0m\u001b[0;34m(\u001b[0m\u001b[0mgame\u001b[0m\u001b[0;34m.\u001b[0m\u001b[0mresult\u001b[0m\u001b[0;34m(\u001b[0m\u001b[0ma\u001b[0m\u001b[0;34m)\u001b[0m\u001b[0;34m,\u001b[0m \u001b[0malpha\u001b[0m\u001b[0;34m,\u001b[0m \u001b[0mbeta\u001b[0m\u001b[0;34m)\u001b[0m\u001b[0;34m\u001b[0m\u001b[0;34m\u001b[0m\u001b[0m\n\u001b[0m\u001b[1;32m     12\u001b[0m             \u001b[0;32mif\u001b[0m \u001b[0mv2\u001b[0m \u001b[0;34m>\u001b[0m \u001b[0mv\u001b[0m\u001b[0;34m:\u001b[0m\u001b[0;34m\u001b[0m\u001b[0;34m\u001b[0m\u001b[0m\n\u001b[1;32m     13\u001b[0m                 \u001b[0mv\u001b[0m\u001b[0;34m,\u001b[0m \u001b[0mmove\u001b[0m \u001b[0;34m=\u001b[0m \u001b[0mv2\u001b[0m\u001b[0;34m,\u001b[0m \u001b[0ma\u001b[0m\u001b[0;34m\u001b[0m\u001b[0;34m\u001b[0m\u001b[0m\n",
            "\u001b[0;32m<ipython-input-52-02761204829f>\u001b[0m in \u001b[0;36mmin_value\u001b[0;34m(state, alpha, beta)\u001b[0m\n\u001b[1;32m     25\u001b[0m         \u001b[0mv\u001b[0m\u001b[0;34m,\u001b[0m \u001b[0mmove\u001b[0m \u001b[0;34m=\u001b[0m \u001b[0;34m+\u001b[0m\u001b[0minfinity\u001b[0m\u001b[0;34m,\u001b[0m \u001b[0;32mNone\u001b[0m\u001b[0;34m\u001b[0m\u001b[0;34m\u001b[0m\u001b[0m\n\u001b[1;32m     26\u001b[0m         \u001b[0;32mfor\u001b[0m \u001b[0ma\u001b[0m \u001b[0;32min\u001b[0m \u001b[0mgame\u001b[0m\u001b[0;34m.\u001b[0m\u001b[0mactions\u001b[0m\u001b[0;34m(\u001b[0m\u001b[0;34m)\u001b[0m\u001b[0;34m:\u001b[0m\u001b[0;34m\u001b[0m\u001b[0;34m\u001b[0m\u001b[0m\n\u001b[0;32m---> 27\u001b[0;31m             \u001b[0mv2\u001b[0m\u001b[0;34m,\u001b[0m \u001b[0m_\u001b[0m \u001b[0;34m=\u001b[0m \u001b[0mmax_value\u001b[0m\u001b[0;34m(\u001b[0m\u001b[0mgame\u001b[0m\u001b[0;34m.\u001b[0m\u001b[0mresult\u001b[0m\u001b[0;34m(\u001b[0m\u001b[0ma\u001b[0m\u001b[0;34m)\u001b[0m\u001b[0;34m,\u001b[0m \u001b[0malpha\u001b[0m\u001b[0;34m,\u001b[0m \u001b[0mbeta\u001b[0m\u001b[0;34m)\u001b[0m\u001b[0;34m\u001b[0m\u001b[0;34m\u001b[0m\u001b[0m\n\u001b[0m\u001b[1;32m     28\u001b[0m             \u001b[0;32mif\u001b[0m \u001b[0mv2\u001b[0m \u001b[0;34m<\u001b[0m \u001b[0mv\u001b[0m\u001b[0;34m:\u001b[0m\u001b[0;34m\u001b[0m\u001b[0;34m\u001b[0m\u001b[0m\n\u001b[1;32m     29\u001b[0m                 \u001b[0mv\u001b[0m\u001b[0;34m,\u001b[0m \u001b[0mmove\u001b[0m \u001b[0;34m=\u001b[0m \u001b[0mv2\u001b[0m\u001b[0;34m,\u001b[0m \u001b[0ma\u001b[0m\u001b[0;34m\u001b[0m\u001b[0;34m\u001b[0m\u001b[0m\n",
            "... last 2 frames repeated, from the frame below ...\n",
            "\u001b[0;32m<ipython-input-52-02761204829f>\u001b[0m in \u001b[0;36mmax_value\u001b[0;34m(state, alpha, beta)\u001b[0m\n\u001b[1;32m      9\u001b[0m         \u001b[0mv\u001b[0m\u001b[0;34m,\u001b[0m \u001b[0mmove\u001b[0m \u001b[0;34m=\u001b[0m \u001b[0;34m-\u001b[0m\u001b[0minfinity\u001b[0m\u001b[0;34m,\u001b[0m \u001b[0;32mNone\u001b[0m\u001b[0;34m\u001b[0m\u001b[0;34m\u001b[0m\u001b[0m\n\u001b[1;32m     10\u001b[0m         \u001b[0;32mfor\u001b[0m \u001b[0ma\u001b[0m \u001b[0;32min\u001b[0m \u001b[0mgame\u001b[0m\u001b[0;34m.\u001b[0m\u001b[0mactions\u001b[0m\u001b[0;34m(\u001b[0m\u001b[0;34m)\u001b[0m\u001b[0;34m:\u001b[0m\u001b[0;34m\u001b[0m\u001b[0;34m\u001b[0m\u001b[0m\n\u001b[0;32m---> 11\u001b[0;31m             \u001b[0mv2\u001b[0m\u001b[0;34m,\u001b[0m \u001b[0m_\u001b[0m \u001b[0;34m=\u001b[0m \u001b[0mmin_value\u001b[0m\u001b[0;34m(\u001b[0m\u001b[0mgame\u001b[0m\u001b[0;34m.\u001b[0m\u001b[0mresult\u001b[0m\u001b[0;34m(\u001b[0m\u001b[0ma\u001b[0m\u001b[0;34m)\u001b[0m\u001b[0;34m,\u001b[0m \u001b[0malpha\u001b[0m\u001b[0;34m,\u001b[0m \u001b[0mbeta\u001b[0m\u001b[0;34m)\u001b[0m\u001b[0;34m\u001b[0m\u001b[0;34m\u001b[0m\u001b[0m\n\u001b[0m\u001b[1;32m     12\u001b[0m             \u001b[0;32mif\u001b[0m \u001b[0mv2\u001b[0m \u001b[0;34m>\u001b[0m \u001b[0mv\u001b[0m\u001b[0;34m:\u001b[0m\u001b[0;34m\u001b[0m\u001b[0;34m\u001b[0m\u001b[0m\n\u001b[1;32m     13\u001b[0m                 \u001b[0mv\u001b[0m\u001b[0;34m,\u001b[0m \u001b[0mmove\u001b[0m \u001b[0;34m=\u001b[0m \u001b[0mv2\u001b[0m\u001b[0;34m,\u001b[0m \u001b[0ma\u001b[0m\u001b[0;34m\u001b[0m\u001b[0;34m\u001b[0m\u001b[0m\n",
            "\u001b[0;31mRecursionError\u001b[0m: maximum recursion depth exceeded in comparison"
          ]
        }
      ],
      "source": [
        "play_game(Othello(4, 4, '●'), {'●':player(alphabeta_search), '○':player(minimax_search)}, verbose=True)"
      ]
    },
    {
      "cell_type": "code",
      "execution_count": null,
      "metadata": {
        "id": "ijfeQBtHpNIj"
      },
      "outputs": [],
      "source": [
        "play_game(TicTacToe(), {'X':player(h_alphabeta_search), 'O':player(h_alphabeta_search)}, verbose=True).utility"
      ]
    },
    {
      "cell_type": "code",
      "execution_count": null,
      "metadata": {
        "id": "4TEzqUSPpNIj"
      },
      "outputs": [],
      "source": [
        "play_game(TicTacToe(), {'X':player(h_alphabeta_search), 'O':random_player}, verbose=True).utility"
      ]
    },
    {
      "cell_type": "code",
      "execution_count": null,
      "metadata": {
        "id": "EjO7oUw1pNIk"
      },
      "outputs": [],
      "source": [
        "%%time\n",
        "play_game(TicTacToe(), {'X':player(minimax_search), 'O':player(h_alphabeta_search)})"
      ]
    },
    {
      "cell_type": "code",
      "execution_count": null,
      "metadata": {
        "id": "fRclxpcIpNIk"
      },
      "outputs": [],
      "source": [
        "%%time\n",
        "play_game(TicTacToe(), {'X':player(alphabeta_search), 'O':player(h_alphabeta_search)})"
      ]
    },
    {
      "cell_type": "code",
      "execution_count": null,
      "metadata": {
        "id": "fobaiJmepNIk",
        "scrolled": true
      },
      "outputs": [],
      "source": [
        "%%time\n",
        "play_game(TicTacToe(), {'X':player(h_alphabeta_search), 'O':player(h_alphabeta_search)})"
      ]
    },
    {
      "cell_type": "code",
      "execution_count": null,
      "metadata": {
        "id": "MwDf0PuqpNIk",
        "scrolled": false
      },
      "outputs": [],
      "source": [
        "play_game(TicTacToe(), {'●':query_player, '○':random_player})"
      ]
    },
    {
      "cell_type": "code",
      "execution_count": null,
      "metadata": {
        "id": "Om7BPqlkpNIl"
      },
      "outputs": [],
      "source": []
    }
  ],
  "metadata": {
    "colab": {
      "provenance": []
    },
    "kernelspec": {
      "display_name": "Python 3 (ipykernel)",
      "language": "python",
      "name": "python3"
    },
    "language_info": {
      "codemirror_mode": {
        "name": "ipython",
        "version": 3
      },
      "file_extension": ".py",
      "mimetype": "text/x-python",
      "name": "python",
      "nbconvert_exporter": "python",
      "pygments_lexer": "ipython3",
      "version": "3.10.9"
    }
  },
  "nbformat": 4,
  "nbformat_minor": 0
}
