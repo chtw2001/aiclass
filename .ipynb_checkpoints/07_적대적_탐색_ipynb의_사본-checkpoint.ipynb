{
 "cells": [
  {
   "cell_type": "markdown",
   "metadata": {
    "id": "hkGReb0gpNIS"
   },
   "source": [
    "적대적 탐색 알고리즘의 동작 방식을 이해하고 이를 이용하여 게임 프로그램을 만드는 예를 살펴 봅시다. 여기 제공하는 코드는 GitHub aima-python의 코드를 기반으로 일부 수정한 것임."
   ]
  },
  {
   "cell_type": "code",
   "execution_count": 7,
   "metadata": {
    "id": "5DvDelF-pNIX"
   },
   "outputs": [],
   "source": [
    "from collections import defaultdict\n",
    "import random\n",
    "import math\n",
    "infinity = math.inf"
   ]
  },
  {
   "cell_type": "markdown",
   "metadata": {
    "id": "7f0ll6tvpNIZ"
   },
   "source": [
    "## 게임 문제 정의\n",
    "자신만의 게임 문제를 정의하려면 Game 클래스의 서브 클래스를 정의하면 됨."
   ]
  },
  {
   "cell_type": "code",
   "execution_count": 8,
   "metadata": {
    "id": "TxFcgN4RpNIZ"
   },
   "outputs": [],
   "source": [
    "class Game:\n",
    "    \"\"\"문제를 정의하기 위한 Problem 클래스에 대응되는 게임 정의를 위한 클래스.\n",
    "    경로 비용과 목표 검사 대신 각 상태에 대한 효용 함수와 종료 검사로 구성됨.\n",
    "    게임을 정의하려면 이 클래스의 서브 클래스를 만들어서\n",
    "    actions, result, is_terminal, utility를 구현하면 됨.\n",
    "    필요에 따라 게임의 초기 상태를 지정하려면,\n",
    "    클래스 생성자에서 초기 상태를 initial 에 세팅하면 됨.\"\"\"\n",
    "\n",
    "    def actions(self, state):\n",
    "        \"\"\"주어진 상태에서 허용 가능한 수(move) 리스트\"\"\"\n",
    "        raise NotImplementedError\n",
    "\n",
    "    def result(self, state, move):\n",
    "        \"\"\"주어진 상태(state)에서 수(move)를 두었을 때의 결과 상태 리턴\"\"\"\n",
    "        raise NotImplementedError\n",
    "\n",
    "    def is_terminal(self, state):\n",
    "        \"\"\"state가 종료 상태이면 True 리턴\"\"\"\n",
    "        return not self.actions(state)\n",
    "    \n",
    "    def utility(self, state, player):\n",
    "        \"\"\"종료 상태 state에서 게임이 종료됐을 때 player의 효용 함수 값\"\"\"\n",
    "        raise NotImplementedError"
   ]
  },
  {
   "cell_type": "code",
   "execution_count": 45,
   "metadata": {
    "id": "eRE4STQLpNIa"
   },
   "outputs": [],
   "source": [
    "def play_game(game, strategies: dict, verbose=False):\n",
    "    \"\"\"번갈아 가면서 두는 게임 진행 함수.\n",
    "    strategies: {참가자 이름: 함수} 형태의 딕셔너리. \n",
    "    여기서 함수(game, state)는 상태 state에서 참가자의 수(move)를 찾는 함수\"\"\"\n",
    "    state = game.initial\n",
    "    while not game.is_terminal(state):\n",
    "        player = state.to_move\n",
    "        move = strategies[player](game, state)\n",
    "        state = game.result(state, move)\n",
    "        if verbose: \n",
    "            print('Player', player, 'move:', move)\n",
    "            print(state)\n",
    "    return state"
   ]
  },
  {
   "cell_type": "markdown",
   "metadata": {
    "id": "9t_ohrTlpNIb"
   },
   "source": [
    "## 적대적 탐색 알고리즘 구현"
   ]
  },
  {
   "cell_type": "markdown",
   "metadata": {
    "id": "GIkbL4AupNIb"
   },
   "source": [
    "### 미니맥스 탐색"
   ]
  },
  {
   "cell_type": "code",
   "execution_count": 31,
   "metadata": {
    "id": "agq5EhPfpNIc"
   },
   "outputs": [],
   "source": [
    "def minimax_search(game, state):\n",
    "    \"\"\"최고의 수를 결정하기 위한 게임 트리 탐색.\n",
    "    (미니맥스 값, 수) 쌍을 리턴함.\"\"\"\n",
    "\n",
    "    player = state.to_move\n",
    "\n",
    "    def max_value(state):\n",
    "        if game.is_terminal(state):\n",
    "            return game.utility(state, player), None\n",
    "        v, move = -infinity, None\n",
    "        for a in game.actions(state):\n",
    "            v2, _ = min_value(game.result(state, a))\n",
    "            if v2 > v:\n",
    "                v, move = v2, a\n",
    "        return v, move\n",
    "\n",
    "    def min_value(state):\n",
    "        if game.is_terminal(state):\n",
    "            return game.utility(state, player), None\n",
    "        v, move = +infinity, None\n",
    "        for a in game.actions(state):\n",
    "            v2, _ = max_value(game.result(state, a))\n",
    "            if v2 < v:\n",
    "                v, move = v2, a\n",
    "        return v, move\n",
    "\n",
    "    return max_value(state)"
   ]
  },
  {
   "cell_type": "markdown",
   "metadata": {
    "id": "1t8K1wNnpNId"
   },
   "source": [
    "### 알파-베타 탐색"
   ]
  },
  {
   "cell_type": "code",
   "execution_count": 32,
   "metadata": {
    "id": "TDVwtFvxpNId"
   },
   "outputs": [],
   "source": [
    "def alphabeta_search(game, state):\n",
    "    \"\"\"알파-베타 가지치기를 사용하여 최고의 수를 결정하기 위한 게임 트리 탐색.\"\"\"\n",
    "\n",
    "    player = state.to_move\n",
    "\n",
    "    def max_value(state, alpha, beta):\n",
    "        if game.is_terminal(state):\n",
    "            return game.utility(state, player), None\n",
    "        v, move = -infinity, None\n",
    "        for a in game.actions(state):\n",
    "            v2, _ = min_value(game.result(state, a), alpha, beta)\n",
    "            if v2 > v:\n",
    "                v, move = v2, a\n",
    "                alpha = max(alpha, v)\n",
    "            if v >= beta:\n",
    "                return v, move\n",
    "        if not move:\n",
    "            return min_value(state, alpha, beta)\n",
    "        return v, move\n",
    "\n",
    "    def min_value(state, alpha, beta):\n",
    "        if game.is_terminal(state):\n",
    "            return game.utility(state, player), None\n",
    "        v, move = +infinity, None\n",
    "        for a in game.actions(state):\n",
    "            v2, _ = max_value(game.result(state, a), alpha, beta)\n",
    "            if v2 < v:\n",
    "                v, move = v2, a\n",
    "                beta = min(beta, v)\n",
    "            if v <= alpha:\n",
    "                return v, move\n",
    "        return v, move\n",
    "\n",
    "    return max_value(state, -infinity, +infinity)"
   ]
  },
  {
   "cell_type": "markdown",
   "metadata": {
    "id": "DrnlRAc_pNIe"
   },
   "source": [
    "### 휴리스틱 알파-베타 탐색"
   ]
  },
  {
   "cell_type": "code",
   "execution_count": 33,
   "metadata": {
    "id": "8feQm3QbpNIf"
   },
   "outputs": [],
   "source": [
    "def cutoff_depth(d):\n",
    "    \"\"\"깊이 d까지만 탐색하도록 하는 중단 함수: depth > d이면 True 리턴.\"\"\"\n",
    "    return lambda game, state, depth: depth > d\n",
    "\n",
    "def h_alphabeta_search(game, state, cutoff=cutoff_depth(6), h=lambda s, p: 0):\n",
    "    \"\"\"휴리스틱 알파-베타 탐색\"\"\"\n",
    "\n",
    "    player = state.to_move\n",
    "\n",
    "    def max_value(state, alpha, beta, depth):\n",
    "        if game.is_terminal(state):\n",
    "            return game.utility(state, player), None\n",
    "        if cutoff(game, state, depth):\n",
    "            return h(state, player), None\n",
    "        v, move = -infinity, None\n",
    "        for a in game.actions(state):\n",
    "            v2, _ = min_value(game.result(state, a), alpha, beta, depth+1)\n",
    "            if v2 > v:\n",
    "                v, move = v2, a\n",
    "                alpha = max(alpha, v)\n",
    "            if v >= beta:\n",
    "                return v, move\n",
    "        return v, move\n",
    "\n",
    "    def min_value(state, alpha, beta, depth):\n",
    "        if game.is_terminal(state):\n",
    "            return game.utility(state, player), None\n",
    "        if cutoff(game, state, depth):\n",
    "            return h(state, player), None\n",
    "        v, move = +infinity, None\n",
    "        for a in game.actions(state):\n",
    "            v2, _ = max_value(game.result(state, a), alpha, beta, depth + 1)\n",
    "            if v2 < v:\n",
    "                v, move = v2, a\n",
    "                beta = min(beta, v)\n",
    "            if v <= alpha:\n",
    "                return v, move\n",
    "        return v, move\n",
    "\n",
    "    return max_value(state, -infinity, +infinity, 0)"
   ]
  },
  {
   "cell_type": "markdown",
   "metadata": {
    "id": "5S5bnhlSpNIg"
   },
   "source": [
    "## Othello(리버시) 게임"
   ]
  },
  {
   "cell_type": "markdown",
   "metadata": {
    "id": "QOmgm1tYpNIg"
   },
   "source": [
    "### 게임 정의"
   ]
  },
  {
   "cell_type": "code",
   "execution_count": 34,
   "metadata": {},
   "outputs": [],
   "source": [
    "class Board:\n",
    "    \"\"\"{(x, y): player} 형식의 딕셔너리. player: 'X' 또는 'O'\n",
    "    .to_move: 누가 둘 차례인가?\n",
    "    .width, .height: 보드 크기\"\"\"\n",
    "    \n",
    "    empty = '.'\n",
    "    off = '#'\n",
    "    \n",
    "    def __init__(self, width, height, to_move):\n",
    "        self.squares = [[ '.' for x in range(width)] for y in range(height)]\n",
    "        self.squares[width//2][height//2]='●'\n",
    "        self.squares[width//2-1][height//2-1]='●'\n",
    "        self.squares[width//2-1][height//2]='○'\n",
    "        self.squares[width//2][height//2-1]='○'\n",
    "        self.to_move = to_move\n",
    "        self.width = width\n",
    "        self.height = height\n",
    "        self.blank_cnt = width*height - 4\n",
    "        \n",
    "    def new(self, action):\n",
    "        \"\"\"기존 보드 복사해서 행동 적용한 보드 반환\"\"\"\n",
    "        board = Board(self.width, self.height, self.to_move)\n",
    "        \n",
    "        board.squares = [self.squares[x][:] for x in range(self.height)]\n",
    "        \n",
    "        board.turn_all_drit(action)\n",
    "        board.squares[action[0]][action[1]] = self.to_move\n",
    "        \n",
    "        if self.to_move=='○' : board.to_move = '●'\n",
    "        else: board.to_move = '○'\n",
    "        board.blank_cnt-=1\n",
    "        \n",
    "        return board\n",
    "    \n",
    "    def turn_check(self, x, y, dxy):\n",
    "        '''진짜 뒤집음'''\n",
    "        if(x>=self.width or y>=self.height or self.squares[x][y]=='.'):\n",
    "            return -1\n",
    "        elif(self.squares[x][y]==self.to_move):\n",
    "            return 0\n",
    "        else:\n",
    "            tmp = self.turn_check(x+dxy[0], y+dxy[1], dxy)\n",
    "            if(tmp != -1):\n",
    "                self.squares[x][y] = self.to_move\n",
    "                return 0\n",
    "            return -1\n",
    "    \n",
    "    def turn_all_drit(self,action):\n",
    "        '''8방향 뒤집기 체크'''\n",
    "        move = ((0,1),(1,0),(0,-1),(-1,0),(1,1),(-1,1),(1,-1),(-1,-1))\n",
    "        \n",
    "        for d in move:\n",
    "            self.turn_check(action[0]+d[0], action[1]+d[1], d)\n",
    "\n",
    "\n",
    "    def __missing__(self, loc):\n",
    "        x, y = loc\n",
    "        if 0 <= x < self.width and 0 <= y < self.height:\n",
    "            return self.empty\n",
    "        else:\n",
    "            return self.off\n",
    "            \n",
    "    def __hash__(self): \n",
    "        return hash(tuple(sorted(self.items()))) + hash(self.to_move)\n",
    "    \n",
    "    def __repr__(self):\n",
    "        def row(y): return ' '.join(self[x, y] for x in range(self.width))\n",
    "        return '\\n'.join(map(row, range(self.height))) +  '\\n'\n",
    "    "
   ]
  },
  {
   "cell_type": "code",
   "execution_count": 49,
   "metadata": {
    "id": "6UBgKpWilx3s"
   },
   "outputs": [],
   "source": [
    "class Othello(Game):\n",
    "    \"\"\"Othello 게임. 보드 크기: width * height. 모든 판을 채웠을 때 더 많은 색을 가진 사람이 승리\n",
    "    '●'와 '○'가 게임 플레이. '●'가 먼저 플레이.\n",
    "    (0, 0) 위치는 보드의 좌상단 끝 위치.\"\"\"\n",
    "\n",
    "    def __init__(self, height=4, width=4):\n",
    "        self.height=height\n",
    "        self.width=width\n",
    "        self.board = Board(width=width, height=height, to_move='●')\n",
    "\n",
    "    def actions(self):\n",
    "        move = ((0,1),(1,0),(0,-1),(-1,0),(1,1),(-1,1),(1,-1),(-1,-1))\n",
    "        \"\"\"내 돌을 놓을 수 있는 위치들\"\"\"\n",
    "        action = set()\n",
    "        for i in range(self.width):\n",
    "            for j in range(self.height):\n",
    "                for d in move:\n",
    "                    if(self.turn_check(i+d[0], j+d[1], d)>0):\n",
    "                        action.add((i,j))\n",
    "                        break\n",
    "        return action\n",
    "\n",
    "\n",
    "    def turn_check(self, player, x, y, dxy):\n",
    "        if(x>=self.width or y>=self.height or self.board.squeres[x][y]=='.'):\n",
    "            return -1\n",
    "        elif(self.board.squeres[x][y]==player):\n",
    "            return 0\n",
    "        else:\n",
    "            tmp = self.turn_check(player, x+dxy[0], y+dxy[1], dxy)\n",
    "            if(tmp!=-1):\n",
    "                return tmp+1\n",
    "            return -1\n",
    "    \n",
    "\n",
    "    def result(self, action):\n",
    "        \"\"\"board의 square 위치에 현재 플레이어의 표시를 위치시킴.\"\"\"\n",
    "        player = self.board.to_move\n",
    "        board = self.board.new(action)\n",
    "        win = k_in_row(board, player, self.k)\n",
    "        #board.utility = (0 if not win else +1 if player == 'X' else -1)\n",
    "        return board\n",
    "\n",
    "    def utility(self, board, player):\n",
    "        \"\"\"승리: 1, 패배: -1, 그외: 0\"\"\"\n",
    "        return board.utility if player == 'X' else -board.utility\n",
    "\n",
    "    def is_terminal(self, board):\n",
    "        \"\"\"승/패가 결정되었거나 빈 위치가 존재하지 않으면 종료 상태임.\"\"\"\n",
    "        return board.utility != 0 or len(self.squares) == len(board)\n",
    "\n",
    "    def display(self, board):  # print(board) => 아래 코드로 변경\n",
    "        for i in range(board.height):\n",
    "            for j in range(board.width):\n",
    "                print(board.squares[i][j], end=\" \")\n",
    "            print()\n",
    "\n",
    "\n",
    "def k_in_row(board, player, square, k):\n",
    "    \"\"\"일직선으로 k개의 player 돌이 놓여 있으면 True 리턴.\"\"\"\n",
    "    def in_row(x, y, dx, dy): return 0 if board[x, y] != player else 1 + in_row(x + dx, y + dy, dx, dy)\n",
    "    return any(in_row(*square, dx, dy) + in_row(*square, -dx, -dy) - 1 >= k\n",
    "               for (dx, dy) in ((0, 1), (1, 0), (1, 1), (1, -1)))"
   ]
  },
  {
   "cell_type": "code",
   "execution_count": null,
   "metadata": {
    "id": "6-f7AQn6pNIh"
   },
   "outputs": [],
   "source": []
  },
  {
   "cell_type": "markdown",
   "metadata": {
    "id": "eag9YDmdpNIh"
   },
   "source": [
    "### 게임 참가자(player) 정의"
   ]
  },
  {
   "cell_type": "code",
   "execution_count": 36,
   "metadata": {
    "id": "hPjq5_YApNIi"
   },
   "outputs": [],
   "source": [
    "def random_player(game, state):\n",
    "    \"\"\"허용되는 수(move) 중에서 무작위로 하나를 선택하는 플레이어\"\"\"\n",
    "    return random.choice(list(game.actions(state)))\n",
    "\n",
    "def player(search_algorithm):\n",
    "    \"\"\"지정된 탐색 알고리즘을 사용하는 플레이어: (game, state)를 입력 받아 move를 리턴하는 함수.\"\"\"\n",
    "    return lambda game, state: search_algorithm(game, state)[1]"
   ]
  },
  {
   "cell_type": "code",
   "execution_count": 37,
   "metadata": {
    "id": "QUSAYPghpNIi"
   },
   "outputs": [],
   "source": [
    "def query_player(game, state):\n",
    "    \"\"\"다음 수(move)를 직접 입력하는 형태의 플레이어\"\"\"\n",
    "    print(\"현재 상태:\")\n",
    "    game.display(state)\n",
    "    print(f\"가능한 수: {game.actions(state)}\")\n",
    "    print(\"\")\n",
    "    move = None\n",
    "    if game.actions(state):\n",
    "        move_string = input('당신의 수는? (돌을 둘 위치 입력; 예: (1,1)): ')\n",
    "        try:\n",
    "            move = eval(move_string)\n",
    "        except NameError:\n",
    "            move = move_string\n",
    "    else:\n",
    "        print('가능한 수가 없음: 상대방에게 순서가 넘어감.')\n",
    "    return move"
   ]
  },
  {
   "cell_type": "markdown",
   "metadata": {
    "id": "pA3UQgjvpNIi"
   },
   "source": [
    "## 게임하기"
   ]
  },
  {
   "cell_type": "code",
   "execution_count": 38,
   "metadata": {},
   "outputs": [],
   "source": [
    "a = Othello(4, 4)"
   ]
  },
  {
   "cell_type": "code",
   "execution_count": 39,
   "metadata": {},
   "outputs": [],
   "source": [
    "board = Board(4, 4, '●')"
   ]
  },
  {
   "cell_type": "code",
   "execution_count": 40,
   "metadata": {},
   "outputs": [
    {
     "name": "stdout",
     "output_type": "stream",
     "text": [
      "[['.', '.', '.', '.'], ['.', '●', '○', '.'], ['.', '○', '●', '.'], ['.', '.', '.', '.']]\n"
     ]
    }
   ],
   "source": [
    "print(board.squares)"
   ]
  },
  {
   "cell_type": "code",
   "execution_count": 41,
   "metadata": {},
   "outputs": [
    {
     "name": "stdout",
     "output_type": "stream",
     "text": [
      ". . . . \n",
      ". ● ○ . \n",
      ". ○ ● . \n",
      ". . . . \n"
     ]
    }
   ],
   "source": [
    "a.display(board)"
   ]
  },
  {
   "cell_type": "code",
   "execution_count": null,
   "metadata": {},
   "outputs": [],
   "source": []
  },
  {
   "cell_type": "code",
   "execution_count": 42,
   "metadata": {
    "colab": {
     "base_uri": "https://localhost:8080/"
    },
    "id": "5JsggQqDpNIj",
    "outputId": "6fb341cc-6380-4bb7-ba71-d6d5a1445281"
   },
   "outputs": [
    {
     "ename": "NameError",
     "evalue": "name 'TicTacToe' is not defined",
     "output_type": "error",
     "traceback": [
      "\u001b[0;31m---------------------------------------------------------------------------\u001b[0m",
      "\u001b[0;31mNameError\u001b[0m                                 Traceback (most recent call last)",
      "Cell \u001b[0;32mIn[42], line 1\u001b[0m\n\u001b[0;32m----> 1\u001b[0m play_game(\u001b[43mTicTacToe\u001b[49m(), {\u001b[38;5;124m'\u001b[39m\u001b[38;5;124mX\u001b[39m\u001b[38;5;124m'\u001b[39m:random_player, \u001b[38;5;124m'\u001b[39m\u001b[38;5;124mO\u001b[39m\u001b[38;5;124m'\u001b[39m:player(alphabeta_search)}, verbose\u001b[38;5;241m=\u001b[39m\u001b[38;5;28;01mTrue\u001b[39;00m)\u001b[38;5;241m.\u001b[39mutility\n",
      "\u001b[0;31mNameError\u001b[0m: name 'TicTacToe' is not defined"
     ]
    }
   ],
   "source": [
    "play_game(TicTacToe(), {'X':random_player, 'O':player(alphabeta_search)}, verbose=True).utility"
   ]
  },
  {
   "cell_type": "code",
   "execution_count": 51,
   "metadata": {
    "colab": {
     "base_uri": "https://localhost:8080/"
    },
    "id": "A7GlNIDbpNIj",
    "outputId": "a967a098-8a93-4240-e764-d2aa25c0be12",
    "scrolled": true
   },
   "outputs": [
    {
     "ename": "AttributeError",
     "evalue": "'Board' object has no attribute 'utility'",
     "output_type": "error",
     "traceback": [
      "\u001b[0;31m---------------------------------------------------------------------------\u001b[0m",
      "\u001b[0;31mAttributeError\u001b[0m                            Traceback (most recent call last)",
      "Cell \u001b[0;32mIn[51], line 1\u001b[0m\n\u001b[0;32m----> 1\u001b[0m \u001b[43mplay_game\u001b[49m\u001b[43m(\u001b[49m\u001b[43mOthello\u001b[49m\u001b[43m(\u001b[49m\u001b[38;5;241;43m4\u001b[39;49m\u001b[43m,\u001b[49m\u001b[43m \u001b[49m\u001b[38;5;241;43m4\u001b[39;49m\u001b[43m)\u001b[49m\u001b[43m,\u001b[49m\u001b[43m \u001b[49m\u001b[43m{\u001b[49m\u001b[38;5;124;43m'\u001b[39;49m\u001b[38;5;124;43mX\u001b[39;49m\u001b[38;5;124;43m'\u001b[39;49m\u001b[43m:\u001b[49m\u001b[43mplayer\u001b[49m\u001b[43m(\u001b[49m\u001b[43malphabeta_search\u001b[49m\u001b[43m)\u001b[49m\u001b[43m,\u001b[49m\u001b[43m \u001b[49m\u001b[38;5;124;43m'\u001b[39;49m\u001b[38;5;124;43mO\u001b[39;49m\u001b[38;5;124;43m'\u001b[39;49m\u001b[43m:\u001b[49m\u001b[43mplayer\u001b[49m\u001b[43m(\u001b[49m\u001b[43mminimax_search\u001b[49m\u001b[43m)\u001b[49m\u001b[43m}\u001b[49m\u001b[43m,\u001b[49m\u001b[43m \u001b[49m\u001b[43mverbose\u001b[49m\u001b[38;5;241;43m=\u001b[39;49m\u001b[38;5;28;43;01mTrue\u001b[39;49;00m\u001b[43m)\u001b[49m\u001b[38;5;241;43m.\u001b[39;49m\u001b[43mutility\u001b[49m\n",
      "\u001b[0;31mAttributeError\u001b[0m: 'Board' object has no attribute 'utility'"
     ]
    }
   ],
   "source": [
    "play_game(TicTacToe(), {'X':player(alphabeta_search), 'O':player(minimax_search)}, verbose=True).utility"
   ]
  },
  {
   "cell_type": "code",
   "execution_count": 52,
   "metadata": {
    "colab": {
     "base_uri": "https://localhost:8080/"
    },
    "id": "ijfeQBtHpNIj",
    "outputId": "5a523822-9f3d-4fc3-8c66-db232b48a63c"
   },
   "outputs": [
    {
     "ename": "NameError",
     "evalue": "name 'TicTacToe' is not defined",
     "output_type": "error",
     "traceback": [
      "\u001b[0;31m---------------------------------------------------------------------------\u001b[0m",
      "\u001b[0;31mNameError\u001b[0m                                 Traceback (most recent call last)",
      "Cell \u001b[0;32mIn[52], line 1\u001b[0m\n\u001b[0;32m----> 1\u001b[0m play_game(\u001b[43mTicTacToe\u001b[49m(), {\u001b[38;5;124m'\u001b[39m\u001b[38;5;124mX\u001b[39m\u001b[38;5;124m'\u001b[39m:player(h_alphabeta_search), \u001b[38;5;124m'\u001b[39m\u001b[38;5;124mO\u001b[39m\u001b[38;5;124m'\u001b[39m:player(h_alphabeta_search)}, verbose\u001b[38;5;241m=\u001b[39m\u001b[38;5;28;01mTrue\u001b[39;00m)\u001b[38;5;241m.\u001b[39mutility\n",
      "\u001b[0;31mNameError\u001b[0m: name 'TicTacToe' is not defined"
     ]
    }
   ],
   "source": [
    "play_game(TicTacToe(), {'X':player(h_alphabeta_search), 'O':player(h_alphabeta_search)}, verbose=True).utility"
   ]
  },
  {
   "cell_type": "code",
   "execution_count": 6,
   "metadata": {
    "colab": {
     "base_uri": "https://localhost:8080/"
    },
    "id": "4TEzqUSPpNIj",
    "outputId": "d7e78e8e-0cae-4c77-f3cd-e6ba9ead99bc"
   },
   "outputs": [
    {
     "ename": "NameError",
     "evalue": "name 'play_game' is not defined",
     "output_type": "error",
     "traceback": [
      "\u001b[0;31m---------------------------------------------------------------------------\u001b[0m",
      "\u001b[0;31mNameError\u001b[0m                                 Traceback (most recent call last)",
      "Cell \u001b[0;32mIn[6], line 1\u001b[0m\n\u001b[0;32m----> 1\u001b[0m \u001b[43mplay_game\u001b[49m(TicTacToe(), {\u001b[38;5;124m'\u001b[39m\u001b[38;5;124mX\u001b[39m\u001b[38;5;124m'\u001b[39m:player(h_alphabeta_search), \u001b[38;5;124m'\u001b[39m\u001b[38;5;124mO\u001b[39m\u001b[38;5;124m'\u001b[39m:random_player}, verbose\u001b[38;5;241m=\u001b[39m\u001b[38;5;28;01mTrue\u001b[39;00m)\u001b[38;5;241m.\u001b[39mutility\n",
      "\u001b[0;31mNameError\u001b[0m: name 'play_game' is not defined"
     ]
    }
   ],
   "source": [
    "play_game(TicTacToe(), {'X':player(h_alphabeta_search), 'O':random_player}, verbose=True).utility"
   ]
  },
  {
   "cell_type": "code",
   "execution_count": null,
   "metadata": {
    "colab": {
     "base_uri": "https://localhost:8080/"
    },
    "id": "EjO7oUw1pNIk",
    "outputId": "becdf677-660d-48d1-9111-0b1fb5484c96"
   },
   "outputs": [],
   "source": [
    "%%time\n",
    "play_game(TicTacToe(), {'X':player(minimax_search), 'O':player(h_alphabeta_search)})"
   ]
  },
  {
   "cell_type": "code",
   "execution_count": null,
   "metadata": {
    "colab": {
     "base_uri": "https://localhost:8080/"
    },
    "id": "fRclxpcIpNIk",
    "outputId": "562cf4b4-996f-4ad4-edd6-69bcdd72e7a7"
   },
   "outputs": [
    {
     "name": "stdout",
     "output_type": "stream",
     "text": [
      "CPU times: user 351 ms, sys: 886 µs, total: 352 ms\n",
      "Wall time: 354 ms\n"
     ]
    },
    {
     "data": {
      "text/plain": [
       "O O X\n",
       "X X O\n",
       "O X X"
      ]
     },
     "execution_count": 16,
     "metadata": {},
     "output_type": "execute_result"
    }
   ],
   "source": [
    "%%time\n",
    "play_game(TicTacToe(), {'X':player(alphabeta_search), 'O':player(h_alphabeta_search)})"
   ]
  },
  {
   "cell_type": "code",
   "execution_count": null,
   "metadata": {
    "colab": {
     "base_uri": "https://localhost:8080/"
    },
    "id": "fobaiJmepNIk",
    "outputId": "52f567e7-357b-433b-a763-52af959c76fc",
    "scrolled": true
   },
   "outputs": [
    {
     "name": "stdout",
     "output_type": "stream",
     "text": [
      "CPU times: user 232 ms, sys: 951 µs, total: 233 ms\n",
      "Wall time: 236 ms\n"
     ]
    },
    {
     "data": {
      "text/plain": [
       "O O X\n",
       "X X O\n",
       "O X X"
      ]
     },
     "execution_count": 17,
     "metadata": {},
     "output_type": "execute_result"
    }
   ],
   "source": [
    "%%time\n",
    "play_game(TicTacToe(), {'X':player(h_alphabeta_search), 'O':player(h_alphabeta_search)})"
   ]
  },
  {
   "cell_type": "code",
   "execution_count": 55,
   "metadata": {
    "colab": {
     "base_uri": "https://localhost:8080/"
    },
    "id": "MwDf0PuqpNIk",
    "outputId": "ab2352b0-159f-4bc2-dcfd-2bdba0e84ab2",
    "scrolled": false
   },
   "outputs": [
    {
     "ename": "TypeError",
     "evalue": "'Board' object is not subscriptable",
     "output_type": "error",
     "traceback": [
      "\u001b[0;31m---------------------------------------------------------------------------\u001b[0m",
      "\u001b[0;31mTypeError\u001b[0m                                 Traceback (most recent call last)",
      "File \u001b[0;32m/opt/homebrew/anaconda3/lib/python3.10/site-packages/IPython/core/formatters.py:706\u001b[0m, in \u001b[0;36mPlainTextFormatter.__call__\u001b[0;34m(self, obj)\u001b[0m\n\u001b[1;32m    699\u001b[0m stream \u001b[38;5;241m=\u001b[39m StringIO()\n\u001b[1;32m    700\u001b[0m printer \u001b[38;5;241m=\u001b[39m pretty\u001b[38;5;241m.\u001b[39mRepresentationPrinter(stream, \u001b[38;5;28mself\u001b[39m\u001b[38;5;241m.\u001b[39mverbose,\n\u001b[1;32m    701\u001b[0m     \u001b[38;5;28mself\u001b[39m\u001b[38;5;241m.\u001b[39mmax_width, \u001b[38;5;28mself\u001b[39m\u001b[38;5;241m.\u001b[39mnewline,\n\u001b[1;32m    702\u001b[0m     max_seq_length\u001b[38;5;241m=\u001b[39m\u001b[38;5;28mself\u001b[39m\u001b[38;5;241m.\u001b[39mmax_seq_length,\n\u001b[1;32m    703\u001b[0m     singleton_pprinters\u001b[38;5;241m=\u001b[39m\u001b[38;5;28mself\u001b[39m\u001b[38;5;241m.\u001b[39msingleton_printers,\n\u001b[1;32m    704\u001b[0m     type_pprinters\u001b[38;5;241m=\u001b[39m\u001b[38;5;28mself\u001b[39m\u001b[38;5;241m.\u001b[39mtype_printers,\n\u001b[1;32m    705\u001b[0m     deferred_pprinters\u001b[38;5;241m=\u001b[39m\u001b[38;5;28mself\u001b[39m\u001b[38;5;241m.\u001b[39mdeferred_printers)\n\u001b[0;32m--> 706\u001b[0m \u001b[43mprinter\u001b[49m\u001b[38;5;241;43m.\u001b[39;49m\u001b[43mpretty\u001b[49m\u001b[43m(\u001b[49m\u001b[43mobj\u001b[49m\u001b[43m)\u001b[49m\n\u001b[1;32m    707\u001b[0m printer\u001b[38;5;241m.\u001b[39mflush()\n\u001b[1;32m    708\u001b[0m \u001b[38;5;28;01mreturn\u001b[39;00m stream\u001b[38;5;241m.\u001b[39mgetvalue()\n",
      "File \u001b[0;32m/opt/homebrew/anaconda3/lib/python3.10/site-packages/IPython/lib/pretty.py:410\u001b[0m, in \u001b[0;36mRepresentationPrinter.pretty\u001b[0;34m(self, obj)\u001b[0m\n\u001b[1;32m    407\u001b[0m                         \u001b[38;5;28;01mreturn\u001b[39;00m meth(obj, \u001b[38;5;28mself\u001b[39m, cycle)\n\u001b[1;32m    408\u001b[0m                 \u001b[38;5;28;01mif\u001b[39;00m \u001b[38;5;28mcls\u001b[39m \u001b[38;5;129;01mis\u001b[39;00m \u001b[38;5;129;01mnot\u001b[39;00m \u001b[38;5;28mobject\u001b[39m \\\n\u001b[1;32m    409\u001b[0m                         \u001b[38;5;129;01mand\u001b[39;00m callable(\u001b[38;5;28mcls\u001b[39m\u001b[38;5;241m.\u001b[39m\u001b[38;5;18m__dict__\u001b[39m\u001b[38;5;241m.\u001b[39mget(\u001b[38;5;124m'\u001b[39m\u001b[38;5;124m__repr__\u001b[39m\u001b[38;5;124m'\u001b[39m)):\n\u001b[0;32m--> 410\u001b[0m                     \u001b[38;5;28;01mreturn\u001b[39;00m \u001b[43m_repr_pprint\u001b[49m\u001b[43m(\u001b[49m\u001b[43mobj\u001b[49m\u001b[43m,\u001b[49m\u001b[43m \u001b[49m\u001b[38;5;28;43mself\u001b[39;49m\u001b[43m,\u001b[49m\u001b[43m \u001b[49m\u001b[43mcycle\u001b[49m\u001b[43m)\u001b[49m\n\u001b[1;32m    412\u001b[0m     \u001b[38;5;28;01mreturn\u001b[39;00m _default_pprint(obj, \u001b[38;5;28mself\u001b[39m, cycle)\n\u001b[1;32m    413\u001b[0m \u001b[38;5;28;01mfinally\u001b[39;00m:\n",
      "File \u001b[0;32m/opt/homebrew/anaconda3/lib/python3.10/site-packages/IPython/lib/pretty.py:778\u001b[0m, in \u001b[0;36m_repr_pprint\u001b[0;34m(obj, p, cycle)\u001b[0m\n\u001b[1;32m    776\u001b[0m \u001b[38;5;124;03m\"\"\"A pprint that just redirects to the normal repr function.\"\"\"\u001b[39;00m\n\u001b[1;32m    777\u001b[0m \u001b[38;5;66;03m# Find newlines and replace them with p.break_()\u001b[39;00m\n\u001b[0;32m--> 778\u001b[0m output \u001b[38;5;241m=\u001b[39m \u001b[38;5;28;43mrepr\u001b[39;49m\u001b[43m(\u001b[49m\u001b[43mobj\u001b[49m\u001b[43m)\u001b[49m\n\u001b[1;32m    779\u001b[0m lines \u001b[38;5;241m=\u001b[39m output\u001b[38;5;241m.\u001b[39msplitlines()\n\u001b[1;32m    780\u001b[0m \u001b[38;5;28;01mwith\u001b[39;00m p\u001b[38;5;241m.\u001b[39mgroup():\n",
      "Cell \u001b[0;32mIn[34], line 68\u001b[0m, in \u001b[0;36mBoard.__repr__\u001b[0;34m(self)\u001b[0m\n\u001b[1;32m     66\u001b[0m \u001b[38;5;28;01mdef\u001b[39;00m \u001b[38;5;21m__repr__\u001b[39m(\u001b[38;5;28mself\u001b[39m):\n\u001b[1;32m     67\u001b[0m     \u001b[38;5;28;01mdef\u001b[39;00m \u001b[38;5;21mrow\u001b[39m(y): \u001b[38;5;28;01mreturn\u001b[39;00m \u001b[38;5;124m'\u001b[39m\u001b[38;5;124m \u001b[39m\u001b[38;5;124m'\u001b[39m\u001b[38;5;241m.\u001b[39mjoin(\u001b[38;5;28mself\u001b[39m[x, y] \u001b[38;5;28;01mfor\u001b[39;00m x \u001b[38;5;129;01min\u001b[39;00m \u001b[38;5;28mrange\u001b[39m(\u001b[38;5;28mself\u001b[39m\u001b[38;5;241m.\u001b[39mwidth))\n\u001b[0;32m---> 68\u001b[0m     \u001b[38;5;28;01mreturn\u001b[39;00m \u001b[38;5;124;43m'\u001b[39;49m\u001b[38;5;130;43;01m\\n\u001b[39;49;00m\u001b[38;5;124;43m'\u001b[39;49m\u001b[38;5;241;43m.\u001b[39;49m\u001b[43mjoin\u001b[49m\u001b[43m(\u001b[49m\u001b[38;5;28;43mmap\u001b[39;49m\u001b[43m(\u001b[49m\u001b[43mrow\u001b[49m\u001b[43m,\u001b[49m\u001b[43m \u001b[49m\u001b[38;5;28;43mrange\u001b[39;49m\u001b[43m(\u001b[49m\u001b[38;5;28;43mself\u001b[39;49m\u001b[38;5;241;43m.\u001b[39;49m\u001b[43mheight\u001b[49m\u001b[43m)\u001b[49m\u001b[43m)\u001b[49m\u001b[43m)\u001b[49m \u001b[38;5;241m+\u001b[39m  \u001b[38;5;124m'\u001b[39m\u001b[38;5;130;01m\\n\u001b[39;00m\u001b[38;5;124m'\u001b[39m\n",
      "Cell \u001b[0;32mIn[34], line 67\u001b[0m, in \u001b[0;36mBoard.__repr__.<locals>.row\u001b[0;34m(y)\u001b[0m\n\u001b[0;32m---> 67\u001b[0m \u001b[38;5;28;01mdef\u001b[39;00m \u001b[38;5;21mrow\u001b[39m(y): \u001b[38;5;28;01mreturn\u001b[39;00m \u001b[38;5;124;43m'\u001b[39;49m\u001b[38;5;124;43m \u001b[39;49m\u001b[38;5;124;43m'\u001b[39;49m\u001b[38;5;241;43m.\u001b[39;49m\u001b[43mjoin\u001b[49m\u001b[43m(\u001b[49m\u001b[38;5;28;43mself\u001b[39;49m\u001b[43m[\u001b[49m\u001b[43mx\u001b[49m\u001b[43m,\u001b[49m\u001b[43m \u001b[49m\u001b[43my\u001b[49m\u001b[43m]\u001b[49m\u001b[43m \u001b[49m\u001b[38;5;28;43;01mfor\u001b[39;49;00m\u001b[43m \u001b[49m\u001b[43mx\u001b[49m\u001b[43m \u001b[49m\u001b[38;5;129;43;01min\u001b[39;49;00m\u001b[43m \u001b[49m\u001b[38;5;28;43mrange\u001b[39;49m\u001b[43m(\u001b[49m\u001b[38;5;28;43mself\u001b[39;49m\u001b[38;5;241;43m.\u001b[39;49m\u001b[43mwidth\u001b[49m\u001b[43m)\u001b[49m\u001b[43m)\u001b[49m\n",
      "Cell \u001b[0;32mIn[34], line 67\u001b[0m, in \u001b[0;36m<genexpr>\u001b[0;34m(.0)\u001b[0m\n\u001b[0;32m---> 67\u001b[0m \u001b[38;5;28;01mdef\u001b[39;00m \u001b[38;5;21mrow\u001b[39m(y): \u001b[38;5;28;01mreturn\u001b[39;00m \u001b[38;5;124m'\u001b[39m\u001b[38;5;124m \u001b[39m\u001b[38;5;124m'\u001b[39m\u001b[38;5;241m.\u001b[39mjoin(\u001b[38;5;28;43mself\u001b[39;49m\u001b[43m[\u001b[49m\u001b[43mx\u001b[49m\u001b[43m,\u001b[49m\u001b[43m \u001b[49m\u001b[43my\u001b[49m\u001b[43m]\u001b[49m \u001b[38;5;28;01mfor\u001b[39;00m x \u001b[38;5;129;01min\u001b[39;00m \u001b[38;5;28mrange\u001b[39m(\u001b[38;5;28mself\u001b[39m\u001b[38;5;241m.\u001b[39mwidth))\n",
      "\u001b[0;31mTypeError\u001b[0m: 'Board' object is not subscriptable"
     ]
    }
   ],
   "source": [
    "play_game(TicTacToe(), {'X':query_player, 'O':random_player})"
   ]
  },
  {
   "cell_type": "code",
   "execution_count": null,
   "metadata": {
    "id": "Om7BPqlkpNIl"
   },
   "outputs": [],
   "source": []
  }
 ],
 "metadata": {
  "colab": {
   "provenance": []
  },
  "kernelspec": {
   "display_name": "Python 3 (ipykernel)",
   "language": "python",
   "name": "python3"
  },
  "language_info": {
   "codemirror_mode": {
    "name": "ipython",
    "version": 3
   },
   "file_extension": ".py",
   "mimetype": "text/x-python",
   "name": "python",
   "nbconvert_exporter": "python",
   "pygments_lexer": "ipython3",
   "version": "3.10.9"
  }
 },
 "nbformat": 4,
 "nbformat_minor": 1
}
